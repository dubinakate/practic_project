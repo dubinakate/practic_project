{
 "cells": [
  {
   "cell_type": "markdown",
   "id": "f1d73f73-2953-4b26-b3b9-e20e7d43149b",
   "metadata": {},
   "source": [
    "# Изучение рынка заведений общественного питания города Москва\n",
    "Автор: Дубина Екатерина  \n",
    "Дата: 31.05.2025"
   ]
  },
  {
   "cell_type": "markdown",
   "id": "9b4ead51-d4f5-4464-ad68-7cff48098c99",
   "metadata": {},
   "source": [
    "### Содержимое проекта\n",
    "1. Загрузка данных и знакомство с ними.\n",
    "2. Предобработка данных.\n",
    "3. Исследовательский анализ данных.\n",
    "4. Итоговые выводы."
   ]
  },
  {
   "cell_type": "markdown",
   "id": "052a3213-a17d-4280-9d72-f9f97dfa6eb3",
   "metadata": {},
   "source": [
    "## 1. Загрузка данных и знакомство с ними"
   ]
  },
  {
   "cell_type": "code",
   "execution_count": 4,
   "id": "80a50e35-73a8-43e6-b4f2-09a835d79b11",
   "metadata": {},
   "outputs": [
    {
     "name": "stdout",
     "output_type": "stream",
     "text": [
      "<class 'pandas.core.frame.DataFrame'>\n",
      "RangeIndex: 8406 entries, 0 to 8405\n",
      "Data columns (total 9 columns):\n",
      " #   Column    Non-Null Count  Dtype  \n",
      "---  ------    --------------  -----  \n",
      " 0   id        8406 non-null   object \n",
      " 1   name      8406 non-null   object \n",
      " 2   category  8406 non-null   object \n",
      " 3   address   8406 non-null   object \n",
      " 4   district  8406 non-null   object \n",
      " 5   hours     7870 non-null   object \n",
      " 6   rating    8406 non-null   float64\n",
      " 7   chain     8406 non-null   int64  \n",
      " 8   seats     4795 non-null   float64\n",
      "dtypes: float64(2), int64(1), object(6)\n",
      "memory usage: 591.2+ KB\n"
     ]
    },
    {
     "data": {
      "text/html": [
       "<div>\n",
       "<style scoped>\n",
       "    .dataframe tbody tr th:only-of-type {\n",
       "        vertical-align: middle;\n",
       "    }\n",
       "\n",
       "    .dataframe tbody tr th {\n",
       "        vertical-align: top;\n",
       "    }\n",
       "\n",
       "    .dataframe thead th {\n",
       "        text-align: right;\n",
       "    }\n",
       "</style>\n",
       "<table border=\"1\" class=\"dataframe\">\n",
       "  <thead>\n",
       "    <tr style=\"text-align: right;\">\n",
       "      <th></th>\n",
       "      <th>id</th>\n",
       "      <th>name</th>\n",
       "      <th>category</th>\n",
       "      <th>address</th>\n",
       "      <th>district</th>\n",
       "      <th>hours</th>\n",
       "      <th>rating</th>\n",
       "      <th>chain</th>\n",
       "      <th>seats</th>\n",
       "    </tr>\n",
       "  </thead>\n",
       "  <tbody>\n",
       "    <tr>\n",
       "      <th>0</th>\n",
       "      <td>0c3e3439a8c64ea5bf6ecd6ca6ae19f0</td>\n",
       "      <td>WoWфли</td>\n",
       "      <td>кафе</td>\n",
       "      <td>Москва, улица Дыбенко, 7/1</td>\n",
       "      <td>Северный административный округ</td>\n",
       "      <td>ежедневно, 10:00–22:00</td>\n",
       "      <td>5.0</td>\n",
       "      <td>0</td>\n",
       "      <td>NaN</td>\n",
       "    </tr>\n",
       "    <tr>\n",
       "      <th>1</th>\n",
       "      <td>045780ada3474c57a2112e505d74b633</td>\n",
       "      <td>Четыре комнаты</td>\n",
       "      <td>ресторан</td>\n",
       "      <td>Москва, улица Дыбенко, 36, корп. 1</td>\n",
       "      <td>Северный административный округ</td>\n",
       "      <td>ежедневно, 10:00–22:00</td>\n",
       "      <td>4.5</td>\n",
       "      <td>0</td>\n",
       "      <td>4.0</td>\n",
       "    </tr>\n",
       "    <tr>\n",
       "      <th>2</th>\n",
       "      <td>1070b6b59144425896c65889347fcff6</td>\n",
       "      <td>Хазри</td>\n",
       "      <td>кафе</td>\n",
       "      <td>Москва, Клязьминская улица, 15</td>\n",
       "      <td>Северный административный округ</td>\n",
       "      <td>пн-чт 11:00–02:00; пт,сб 11:00–05:00; вс 11:00...</td>\n",
       "      <td>4.6</td>\n",
       "      <td>0</td>\n",
       "      <td>45.0</td>\n",
       "    </tr>\n",
       "    <tr>\n",
       "      <th>3</th>\n",
       "      <td>03ac7cd772104f65b58b349dc59f03ee</td>\n",
       "      <td>Dormouse Coffee Shop</td>\n",
       "      <td>кофейня</td>\n",
       "      <td>Москва, улица Маршала Федоренко, 12</td>\n",
       "      <td>Северный административный округ</td>\n",
       "      <td>ежедневно, 09:00–22:00</td>\n",
       "      <td>5.0</td>\n",
       "      <td>0</td>\n",
       "      <td>NaN</td>\n",
       "    </tr>\n",
       "    <tr>\n",
       "      <th>4</th>\n",
       "      <td>a163aada139c4c7f87b0b1c0b466a50f</td>\n",
       "      <td>Иль Марко</td>\n",
       "      <td>пиццерия</td>\n",
       "      <td>Москва, Правобережная улица, 1Б</td>\n",
       "      <td>Северный административный округ</td>\n",
       "      <td>ежедневно, 10:00–22:00</td>\n",
       "      <td>5.0</td>\n",
       "      <td>1</td>\n",
       "      <td>148.0</td>\n",
       "    </tr>\n",
       "  </tbody>\n",
       "</table>\n",
       "</div>"
      ],
      "text/plain": [
       "                                 id                  name  category  \\\n",
       "0  0c3e3439a8c64ea5bf6ecd6ca6ae19f0                WoWфли      кафе   \n",
       "1  045780ada3474c57a2112e505d74b633        Четыре комнаты  ресторан   \n",
       "2  1070b6b59144425896c65889347fcff6                 Хазри      кафе   \n",
       "3  03ac7cd772104f65b58b349dc59f03ee  Dormouse Coffee Shop   кофейня   \n",
       "4  a163aada139c4c7f87b0b1c0b466a50f             Иль Марко  пиццерия   \n",
       "\n",
       "                               address                         district  \\\n",
       "0           Москва, улица Дыбенко, 7/1  Северный административный округ   \n",
       "1   Москва, улица Дыбенко, 36, корп. 1  Северный административный округ   \n",
       "2       Москва, Клязьминская улица, 15  Северный административный округ   \n",
       "3  Москва, улица Маршала Федоренко, 12  Северный административный округ   \n",
       "4      Москва, Правобережная улица, 1Б  Северный административный округ   \n",
       "\n",
       "                                               hours  rating  chain  seats  \n",
       "0                             ежедневно, 10:00–22:00     5.0      0    NaN  \n",
       "1                             ежедневно, 10:00–22:00     4.5      0    4.0  \n",
       "2  пн-чт 11:00–02:00; пт,сб 11:00–05:00; вс 11:00...     4.6      0   45.0  \n",
       "3                             ежедневно, 09:00–22:00     5.0      0    NaN  \n",
       "4                             ежедневно, 10:00–22:00     5.0      1  148.0  "
      ]
     },
     "execution_count": 4,
     "metadata": {},
     "output_type": "execute_result"
    }
   ],
   "source": [
    "#Вывод общей информации о датафрейме rest_df и первых строк\n",
    "rest_info_df.info()\n",
    "rest_info_df.head()"
   ]
  },
  {
   "cell_type": "markdown",
   "id": "ce26847e-6f9d-4973-8515-e0b2326df76b",
   "metadata": {},
   "source": [
    "Датафрейм *rest_df* представлен 8406 строками и 9 столбцами.\n",
    "\n",
    "Индексы не именованы и представлены порядковыми номерами. \n",
    "\n",
    "Имена переменных указаны корректно.\n",
    "\n",
    "В двух столбцах встречаются пропуски: hours,seats.\n",
    "\n",
    "По типам данных:  \n",
    "- строковые данные 6 столбцов. Учитывая, содержающуюся в них информацию, столбец hours корректней привести к числовому типу;\n",
    "- целочисленные данные 1 столбец;\n",
    "- числовые значения с плавающей точкой 2 столбца. Столбец seats далее логичнней привести к целочисленному типу.\n",
    "  \n",
    "Дополнительно для оптимизации можно варьировать разрядностью числовых столбцов. "
   ]
  },
  {
   "cell_type": "code",
   "execution_count": 5,
   "id": "4768d5d5-5e95-408f-a6d4-84e9a61e2691",
   "metadata": {},
   "outputs": [
    {
     "name": "stdout",
     "output_type": "stream",
     "text": [
      "<class 'pandas.core.frame.DataFrame'>\n",
      "RangeIndex: 4058 entries, 0 to 4057\n",
      "Data columns (total 5 columns):\n",
      " #   Column             Non-Null Count  Dtype  \n",
      "---  ------             --------------  -----  \n",
      " 0   id                 4058 non-null   object \n",
      " 1   price              3315 non-null   object \n",
      " 2   avg_bill           3816 non-null   object \n",
      " 3   middle_avg_bill    3149 non-null   float64\n",
      " 4   middle_coffee_cup  535 non-null    float64\n",
      "dtypes: float64(2), object(3)\n",
      "memory usage: 158.6+ KB\n"
     ]
    },
    {
     "data": {
      "text/html": [
       "<div>\n",
       "<style scoped>\n",
       "    .dataframe tbody tr th:only-of-type {\n",
       "        vertical-align: middle;\n",
       "    }\n",
       "\n",
       "    .dataframe tbody tr th {\n",
       "        vertical-align: top;\n",
       "    }\n",
       "\n",
       "    .dataframe thead th {\n",
       "        text-align: right;\n",
       "    }\n",
       "</style>\n",
       "<table border=\"1\" class=\"dataframe\">\n",
       "  <thead>\n",
       "    <tr style=\"text-align: right;\">\n",
       "      <th></th>\n",
       "      <th>id</th>\n",
       "      <th>price</th>\n",
       "      <th>avg_bill</th>\n",
       "      <th>middle_avg_bill</th>\n",
       "      <th>middle_coffee_cup</th>\n",
       "    </tr>\n",
       "  </thead>\n",
       "  <tbody>\n",
       "    <tr>\n",
       "      <th>0</th>\n",
       "      <td>045780ada3474c57a2112e505d74b633</td>\n",
       "      <td>выше среднего</td>\n",
       "      <td>Средний счёт:1500–1600 ₽</td>\n",
       "      <td>1550.0</td>\n",
       "      <td>NaN</td>\n",
       "    </tr>\n",
       "    <tr>\n",
       "      <th>1</th>\n",
       "      <td>1070b6b59144425896c65889347fcff6</td>\n",
       "      <td>средние</td>\n",
       "      <td>Средний счёт:от 1000 ₽</td>\n",
       "      <td>1000.0</td>\n",
       "      <td>NaN</td>\n",
       "    </tr>\n",
       "    <tr>\n",
       "      <th>2</th>\n",
       "      <td>03ac7cd772104f65b58b349dc59f03ee</td>\n",
       "      <td>NaN</td>\n",
       "      <td>Цена чашки капучино:155–185 ₽</td>\n",
       "      <td>NaN</td>\n",
       "      <td>170.0</td>\n",
       "    </tr>\n",
       "    <tr>\n",
       "      <th>3</th>\n",
       "      <td>a163aada139c4c7f87b0b1c0b466a50f</td>\n",
       "      <td>средние</td>\n",
       "      <td>Средний счёт:400–600 ₽</td>\n",
       "      <td>500.0</td>\n",
       "      <td>NaN</td>\n",
       "    </tr>\n",
       "    <tr>\n",
       "      <th>4</th>\n",
       "      <td>8a343546b24e4a499ad96eb7d0797a8a</td>\n",
       "      <td>средние</td>\n",
       "      <td>NaN</td>\n",
       "      <td>NaN</td>\n",
       "      <td>NaN</td>\n",
       "    </tr>\n",
       "  </tbody>\n",
       "</table>\n",
       "</div>"
      ],
      "text/plain": [
       "                                 id          price  \\\n",
       "0  045780ada3474c57a2112e505d74b633  выше среднего   \n",
       "1  1070b6b59144425896c65889347fcff6        средние   \n",
       "2  03ac7cd772104f65b58b349dc59f03ee            NaN   \n",
       "3  a163aada139c4c7f87b0b1c0b466a50f        средние   \n",
       "4  8a343546b24e4a499ad96eb7d0797a8a        средние   \n",
       "\n",
       "                        avg_bill  middle_avg_bill  middle_coffee_cup  \n",
       "0       Средний счёт:1500–1600 ₽           1550.0                NaN  \n",
       "1         Средний счёт:от 1000 ₽           1000.0                NaN  \n",
       "2  Цена чашки капучино:155–185 ₽              NaN              170.0  \n",
       "3         Средний счёт:400–600 ₽            500.0                NaN  \n",
       "4                            NaN              NaN                NaN  "
      ]
     },
     "execution_count": 5,
     "metadata": {},
     "output_type": "execute_result"
    }
   ],
   "source": [
    "#Вывод общей информации о датафрейме price_df и вывод первых строк\n",
    "rest_price_df.info()\n",
    "rest_price_df.head()"
   ]
  },
  {
   "cell_type": "markdown",
   "id": "89e5f6be-de51-45f8-a9ca-0147e2ca0aff",
   "metadata": {},
   "source": [
    "Датафрейм *price_df* представлен 4058 строками и 5 столбцами.\n",
    "\n",
    "Индексы не именованы и представлены порядковыми номерами.\n",
    "\n",
    "Имена переменных указаны корректно в стиле snake case.\n",
    "\n",
    "В четырех столбцах встречаются пропуски: price, avg_bill, middle_avg_bill, middle_coffee_cup.\n",
    "\n",
    "По типам данных:  \n",
    "- строковые данные 3 столбца;  \n",
    "- числовые значения с плавающей точкой 2 столбца.\n",
    "\n",
    "Типы данных корректны- преобразования не требуются. Но для оптимизации можно варьировать разрядностью числовых столбцов."
   ]
  },
  {
   "cell_type": "markdown",
   "id": "db3387f5-c1c3-4b3b-b61b-0f284f545ae9",
   "metadata": {},
   "source": [
    "Первичное знакомство показывает, что значения в столбцах соответствуют описанию. Во втором датафрейме price_df встречается большое количество пропущенных значений, что потребует их детального изучение на этапе предобработки.  \n",
    "Также есть существенное различие в количество строк в двух датафреймах. Чтобы не потерять часть данных из *rest_info*, которые далее могут потребоваться для решения аналитических задач, объединение корректней провести с использованием типа *left*."
   ]
  },
  {
   "cell_type": "code",
   "execution_count": 6,
   "id": "50817550-be8b-4ada-ab05-ea65c39e76e6",
   "metadata": {},
   "outputs": [],
   "source": [
    "# Объединение датафреймов методов megre по столбцу id\n",
    "rest_df= rest_info_df.merge(rest_price_df, on='id', how='left')"
   ]
  },
  {
   "cell_type": "code",
   "execution_count": 7,
   "id": "4c422a1e-8fdb-4f7c-b61c-4b314931395f",
   "metadata": {},
   "outputs": [
    {
     "name": "stdout",
     "output_type": "stream",
     "text": [
      "<class 'pandas.core.frame.DataFrame'>\n",
      "Int64Index: 8406 entries, 0 to 8405\n",
      "Data columns (total 13 columns):\n",
      " #   Column             Non-Null Count  Dtype  \n",
      "---  ------             --------------  -----  \n",
      " 0   id                 8406 non-null   object \n",
      " 1   name               8406 non-null   object \n",
      " 2   category           8406 non-null   object \n",
      " 3   address            8406 non-null   object \n",
      " 4   district           8406 non-null   object \n",
      " 5   hours              7870 non-null   object \n",
      " 6   rating             8406 non-null   float64\n",
      " 7   chain              8406 non-null   int64  \n",
      " 8   seats              4795 non-null   float64\n",
      " 9   price              3315 non-null   object \n",
      " 10  avg_bill           3816 non-null   object \n",
      " 11  middle_avg_bill    3149 non-null   float64\n",
      " 12  middle_coffee_cup  535 non-null    float64\n",
      "dtypes: float64(4), int64(1), object(8)\n",
      "memory usage: 919.4+ KB\n"
     ]
    },
    {
     "data": {
      "text/html": [
       "<div>\n",
       "<style scoped>\n",
       "    .dataframe tbody tr th:only-of-type {\n",
       "        vertical-align: middle;\n",
       "    }\n",
       "\n",
       "    .dataframe tbody tr th {\n",
       "        vertical-align: top;\n",
       "    }\n",
       "\n",
       "    .dataframe thead th {\n",
       "        text-align: right;\n",
       "    }\n",
       "</style>\n",
       "<table border=\"1\" class=\"dataframe\">\n",
       "  <thead>\n",
       "    <tr style=\"text-align: right;\">\n",
       "      <th></th>\n",
       "      <th>id</th>\n",
       "      <th>name</th>\n",
       "      <th>category</th>\n",
       "      <th>address</th>\n",
       "      <th>district</th>\n",
       "      <th>hours</th>\n",
       "      <th>rating</th>\n",
       "      <th>chain</th>\n",
       "      <th>seats</th>\n",
       "      <th>price</th>\n",
       "      <th>avg_bill</th>\n",
       "      <th>middle_avg_bill</th>\n",
       "      <th>middle_coffee_cup</th>\n",
       "    </tr>\n",
       "  </thead>\n",
       "  <tbody>\n",
       "    <tr>\n",
       "      <th>0</th>\n",
       "      <td>0c3e3439a8c64ea5bf6ecd6ca6ae19f0</td>\n",
       "      <td>WoWфли</td>\n",
       "      <td>кафе</td>\n",
       "      <td>Москва, улица Дыбенко, 7/1</td>\n",
       "      <td>Северный административный округ</td>\n",
       "      <td>ежедневно, 10:00–22:00</td>\n",
       "      <td>5.0</td>\n",
       "      <td>0</td>\n",
       "      <td>NaN</td>\n",
       "      <td>NaN</td>\n",
       "      <td>NaN</td>\n",
       "      <td>NaN</td>\n",
       "      <td>NaN</td>\n",
       "    </tr>\n",
       "    <tr>\n",
       "      <th>1</th>\n",
       "      <td>045780ada3474c57a2112e505d74b633</td>\n",
       "      <td>Четыре комнаты</td>\n",
       "      <td>ресторан</td>\n",
       "      <td>Москва, улица Дыбенко, 36, корп. 1</td>\n",
       "      <td>Северный административный округ</td>\n",
       "      <td>ежедневно, 10:00–22:00</td>\n",
       "      <td>4.5</td>\n",
       "      <td>0</td>\n",
       "      <td>4.0</td>\n",
       "      <td>выше среднего</td>\n",
       "      <td>Средний счёт:1500–1600 ₽</td>\n",
       "      <td>1550.0</td>\n",
       "      <td>NaN</td>\n",
       "    </tr>\n",
       "    <tr>\n",
       "      <th>2</th>\n",
       "      <td>1070b6b59144425896c65889347fcff6</td>\n",
       "      <td>Хазри</td>\n",
       "      <td>кафе</td>\n",
       "      <td>Москва, Клязьминская улица, 15</td>\n",
       "      <td>Северный административный округ</td>\n",
       "      <td>пн-чт 11:00–02:00; пт,сб 11:00–05:00; вс 11:00...</td>\n",
       "      <td>4.6</td>\n",
       "      <td>0</td>\n",
       "      <td>45.0</td>\n",
       "      <td>средние</td>\n",
       "      <td>Средний счёт:от 1000 ₽</td>\n",
       "      <td>1000.0</td>\n",
       "      <td>NaN</td>\n",
       "    </tr>\n",
       "    <tr>\n",
       "      <th>3</th>\n",
       "      <td>03ac7cd772104f65b58b349dc59f03ee</td>\n",
       "      <td>Dormouse Coffee Shop</td>\n",
       "      <td>кофейня</td>\n",
       "      <td>Москва, улица Маршала Федоренко, 12</td>\n",
       "      <td>Северный административный округ</td>\n",
       "      <td>ежедневно, 09:00–22:00</td>\n",
       "      <td>5.0</td>\n",
       "      <td>0</td>\n",
       "      <td>NaN</td>\n",
       "      <td>NaN</td>\n",
       "      <td>Цена чашки капучино:155–185 ₽</td>\n",
       "      <td>NaN</td>\n",
       "      <td>170.0</td>\n",
       "    </tr>\n",
       "    <tr>\n",
       "      <th>4</th>\n",
       "      <td>a163aada139c4c7f87b0b1c0b466a50f</td>\n",
       "      <td>Иль Марко</td>\n",
       "      <td>пиццерия</td>\n",
       "      <td>Москва, Правобережная улица, 1Б</td>\n",
       "      <td>Северный административный округ</td>\n",
       "      <td>ежедневно, 10:00–22:00</td>\n",
       "      <td>5.0</td>\n",
       "      <td>1</td>\n",
       "      <td>148.0</td>\n",
       "      <td>средние</td>\n",
       "      <td>Средний счёт:400–600 ₽</td>\n",
       "      <td>500.0</td>\n",
       "      <td>NaN</td>\n",
       "    </tr>\n",
       "  </tbody>\n",
       "</table>\n",
       "</div>"
      ],
      "text/plain": [
       "                                 id                  name  category  \\\n",
       "0  0c3e3439a8c64ea5bf6ecd6ca6ae19f0                WoWфли      кафе   \n",
       "1  045780ada3474c57a2112e505d74b633        Четыре комнаты  ресторан   \n",
       "2  1070b6b59144425896c65889347fcff6                 Хазри      кафе   \n",
       "3  03ac7cd772104f65b58b349dc59f03ee  Dormouse Coffee Shop   кофейня   \n",
       "4  a163aada139c4c7f87b0b1c0b466a50f             Иль Марко  пиццерия   \n",
       "\n",
       "                               address                         district  \\\n",
       "0           Москва, улица Дыбенко, 7/1  Северный административный округ   \n",
       "1   Москва, улица Дыбенко, 36, корп. 1  Северный административный округ   \n",
       "2       Москва, Клязьминская улица, 15  Северный административный округ   \n",
       "3  Москва, улица Маршала Федоренко, 12  Северный административный округ   \n",
       "4      Москва, Правобережная улица, 1Б  Северный административный округ   \n",
       "\n",
       "                                               hours  rating  chain  seats  \\\n",
       "0                             ежедневно, 10:00–22:00     5.0      0    NaN   \n",
       "1                             ежедневно, 10:00–22:00     4.5      0    4.0   \n",
       "2  пн-чт 11:00–02:00; пт,сб 11:00–05:00; вс 11:00...     4.6      0   45.0   \n",
       "3                             ежедневно, 09:00–22:00     5.0      0    NaN   \n",
       "4                             ежедневно, 10:00–22:00     5.0      1  148.0   \n",
       "\n",
       "           price                       avg_bill  middle_avg_bill  \\\n",
       "0            NaN                            NaN              NaN   \n",
       "1  выше среднего       Средний счёт:1500–1600 ₽           1550.0   \n",
       "2        средние         Средний счёт:от 1000 ₽           1000.0   \n",
       "3            NaN  Цена чашки капучино:155–185 ₽              NaN   \n",
       "4        средние         Средний счёт:400–600 ₽            500.0   \n",
       "\n",
       "   middle_coffee_cup  \n",
       "0                NaN  \n",
       "1                NaN  \n",
       "2                NaN  \n",
       "3              170.0  \n",
       "4                NaN  "
      ]
     },
     "execution_count": 7,
     "metadata": {},
     "output_type": "execute_result"
    }
   ],
   "source": [
    "#Вывод общей информации о датафрейме rest_df и вывод первых строк\n",
    "rest_df.info()\n",
    "rest_df.head()"
   ]
  },
  {
   "cell_type": "markdown",
   "id": "3095b3e7-255b-4a25-9829-89878672e8f6",
   "metadata": {},
   "source": [
    "## 2. Предобработка данных\n"
   ]
  },
  {
   "cell_type": "markdown",
   "id": "dd992423-f9ce-4e29-8e45-9013504d062d",
   "metadata": {},
   "source": [
    "На первом этапе при знакомстве с датафреймов столбцов не было выявлено потребности в преобразовании типов данных, но с целью оптимизации можно изменить разрядность числовых типов. Для этого воспользуемся методом to_numeric с параметром downcast."
   ]
  },
  {
   "cell_type": "code",
   "execution_count": 8,
   "id": "92559594-ec1d-4ebf-96d5-66300a8ed5f5",
   "metadata": {},
   "outputs": [],
   "source": [
    "#изменение размерности для chain с целочисленным типом\n",
    "rest_df['chain']=pd.to_numeric(rest_df['chain'], errors='coerce', downcast='integer')"
   ]
  },
  {
   "cell_type": "code",
   "execution_count": 9,
   "id": "1bb3c494-58c5-476c-95da-a14006e5e3d8",
   "metadata": {},
   "outputs": [],
   "source": [
    "#изменение размерности для переменных с вещественным типом\n",
    "columns_change= ['rating', 'seats', 'middle_avg_bill', 'middle_coffee_cup']\n",
    "for column in columns_change:\n",
    "    rest_df[column]=pd.to_numeric(rest_df[column], errors='coerce', downcast='float')"
   ]
  },
  {
   "cell_type": "code",
   "execution_count": 10,
   "id": "ca0dfec4-f288-4f98-944d-0e4a275d13f5",
   "metadata": {},
   "outputs": [
    {
     "data": {
      "text/plain": [
       "id                    object\n",
       "name                  object\n",
       "category              object\n",
       "address               object\n",
       "district              object\n",
       "hours                 object\n",
       "rating               float32\n",
       "chain                   int8\n",
       "seats                float32\n",
       "price                 object\n",
       "avg_bill              object\n",
       "middle_avg_bill      float32\n",
       "middle_coffee_cup    float32\n",
       "dtype: object"
      ]
     },
     "execution_count": 10,
     "metadata": {},
     "output_type": "execute_result"
    }
   ],
   "source": [
    "#вывод типов данных после корректировок\n",
    "rest_df.dtypes"
   ]
  },
  {
   "cell_type": "markdown",
   "id": "1c3b7820-b8b3-48c3-a15d-6971a76b7356",
   "metadata": {},
   "source": [
    "Как показал первичный анализ данных в них содержатся пропуски. Поэтому далее проведем их подсчет в абсолютном и относительном значении, определим возможные причины их появления и если потребуется сделаем обработку. "
   ]
  },
  {
   "cell_type": "code",
   "execution_count": 11,
   "id": "63347258-affd-44b8-b869-c2326704ccc7",
   "metadata": {},
   "outputs": [
    {
     "data": {
      "text/plain": [
       "id                      0\n",
       "name                    0\n",
       "category                0\n",
       "address                 0\n",
       "district                0\n",
       "hours                 536\n",
       "rating                  0\n",
       "chain                   0\n",
       "seats                3611\n",
       "price                5091\n",
       "avg_bill             4590\n",
       "middle_avg_bill      5257\n",
       "middle_coffee_cup    7871\n",
       "dtype: int64"
      ]
     },
     "execution_count": 11,
     "metadata": {},
     "output_type": "execute_result"
    }
   ],
   "source": [
    "#Подсчет пропусков в абсолютном значении\n",
    "rest_df.isna().sum()"
   ]
  },
  {
   "cell_type": "code",
   "execution_count": 12,
   "id": "ec6c6d5d-de0d-4f13-b58e-c53d1ca94d9f",
   "metadata": {},
   "outputs": [
    {
     "data": {
      "text/plain": [
       "id                   0.000000\n",
       "name                 0.000000\n",
       "category             0.000000\n",
       "address              0.000000\n",
       "district             0.000000\n",
       "hours                0.063764\n",
       "rating               0.000000\n",
       "chain                0.000000\n",
       "seats                0.429574\n",
       "price                0.605639\n",
       "avg_bill             0.546039\n",
       "middle_avg_bill      0.625387\n",
       "middle_coffee_cup    0.936355\n",
       "dtype: float64"
      ]
     },
     "execution_count": 12,
     "metadata": {},
     "output_type": "execute_result"
    }
   ],
   "source": [
    "#Подсчет пропусков в относительном значении\n",
    "rest_df.isna().mean()"
   ]
  },
  {
   "cell_type": "code",
   "execution_count": 13,
   "id": "d1e78b71-e38e-417b-90ca-162c8cebe4ba",
   "metadata": {},
   "outputs": [
    {
     "data": {
      "text/html": [
       "<div>\n",
       "<style scoped>\n",
       "    .dataframe tbody tr th:only-of-type {\n",
       "        vertical-align: middle;\n",
       "    }\n",
       "\n",
       "    .dataframe tbody tr th {\n",
       "        vertical-align: top;\n",
       "    }\n",
       "\n",
       "    .dataframe thead th {\n",
       "        text-align: right;\n",
       "    }\n",
       "</style>\n",
       "<table border=\"1\" class=\"dataframe\">\n",
       "  <thead>\n",
       "    <tr style=\"text-align: right;\">\n",
       "      <th></th>\n",
       "      <th>id</th>\n",
       "      <th>name</th>\n",
       "      <th>category</th>\n",
       "      <th>address</th>\n",
       "      <th>district</th>\n",
       "      <th>hours</th>\n",
       "      <th>rating</th>\n",
       "      <th>chain</th>\n",
       "      <th>seats</th>\n",
       "      <th>price</th>\n",
       "      <th>avg_bill</th>\n",
       "      <th>middle_avg_bill</th>\n",
       "      <th>middle_coffee_cup</th>\n",
       "    </tr>\n",
       "  </thead>\n",
       "  <tbody>\n",
       "    <tr>\n",
       "      <th>6604</th>\n",
       "      <td>36b0becc10804fd897af9bf9855c0bfc</td>\n",
       "      <td>Shrimp Kitchen</td>\n",
       "      <td>ресторан</td>\n",
       "      <td>Москва, проспект Вернадского, 86В</td>\n",
       "      <td>Западный административный округ</td>\n",
       "      <td>пн-чт 10:00–22:00; пт,сб 10:00–23:00; вс 10:00...</td>\n",
       "      <td>4.4</td>\n",
       "      <td>0</td>\n",
       "      <td>NaN</td>\n",
       "      <td>выше среднего</td>\n",
       "      <td>Средний счёт:1000–1500 ₽</td>\n",
       "      <td>1250.0</td>\n",
       "      <td>NaN</td>\n",
       "    </tr>\n",
       "    <tr>\n",
       "      <th>2341</th>\n",
       "      <td>e48f95a246374357ad79218fa0f49c7f</td>\n",
       "      <td>Фитнес-бар</td>\n",
       "      <td>бар,паб</td>\n",
       "      <td>Москва, улица Сущёвский Вал, 56, стр. 1</td>\n",
       "      <td>Центральный административный округ</td>\n",
       "      <td>ежедневно, 10:00–20:00</td>\n",
       "      <td>4.2</td>\n",
       "      <td>0</td>\n",
       "      <td>200.0</td>\n",
       "      <td>средние</td>\n",
       "      <td>Средний счёт:от 800 ₽</td>\n",
       "      <td>800.0</td>\n",
       "      <td>NaN</td>\n",
       "    </tr>\n",
       "    <tr>\n",
       "      <th>7788</th>\n",
       "      <td>6ec9eb8a870f4a03a3efb820c5c79860</td>\n",
       "      <td>Атмосфера Хинкальная</td>\n",
       "      <td>ресторан</td>\n",
       "      <td>Москва, Касимовская улица, 4</td>\n",
       "      <td>Южный административный округ</td>\n",
       "      <td>ежедневно, 11:00–02:00</td>\n",
       "      <td>4.1</td>\n",
       "      <td>0</td>\n",
       "      <td>48.0</td>\n",
       "      <td>средние</td>\n",
       "      <td>Средний счёт:500 ₽</td>\n",
       "      <td>500.0</td>\n",
       "      <td>NaN</td>\n",
       "    </tr>\n",
       "    <tr>\n",
       "      <th>3059</th>\n",
       "      <td>1b681f18bc74487a8c77ee8b60914982</td>\n",
       "      <td>Korean Chick</td>\n",
       "      <td>кафе</td>\n",
       "      <td>Москва, Кунцевская улица, 5</td>\n",
       "      <td>Западный административный округ</td>\n",
       "      <td>ежедневно, 10:00–22:00</td>\n",
       "      <td>4.2</td>\n",
       "      <td>1</td>\n",
       "      <td>NaN</td>\n",
       "      <td>средние</td>\n",
       "      <td>Средний счёт:750–1000 ₽</td>\n",
       "      <td>875.0</td>\n",
       "      <td>NaN</td>\n",
       "    </tr>\n",
       "    <tr>\n",
       "      <th>3785</th>\n",
       "      <td>990a1edfda7b4627b898dd962d8e9e1c</td>\n",
       "      <td>Kaif Provenance</td>\n",
       "      <td>ресторан</td>\n",
       "      <td>Москва, улица Большая Дмитровка, 13</td>\n",
       "      <td>Центральный административный округ</td>\n",
       "      <td>пн-чт 11:00–00:00; пт,сб 11:00–05:00; вс 11:00...</td>\n",
       "      <td>4.4</td>\n",
       "      <td>0</td>\n",
       "      <td>220.0</td>\n",
       "      <td>высокие</td>\n",
       "      <td>Средний счёт:2000–2500 ₽</td>\n",
       "      <td>2250.0</td>\n",
       "      <td>NaN</td>\n",
       "    </tr>\n",
       "    <tr>\n",
       "      <th>1265</th>\n",
       "      <td>c932695a24834e4a8aa5337d44db973b</td>\n",
       "      <td>TaAm hummus bar</td>\n",
       "      <td>бар,паб</td>\n",
       "      <td>Москва, Волоколамское шоссе, 6</td>\n",
       "      <td>Северный административный округ</td>\n",
       "      <td>ежедневно, 10:00–23:00</td>\n",
       "      <td>4.6</td>\n",
       "      <td>0</td>\n",
       "      <td>NaN</td>\n",
       "      <td>средние</td>\n",
       "      <td>Средний счёт:500–800 ₽</td>\n",
       "      <td>650.0</td>\n",
       "      <td>NaN</td>\n",
       "    </tr>\n",
       "    <tr>\n",
       "      <th>2094</th>\n",
       "      <td>3bb007db2bc046c2bf918a5e1cf253c4</td>\n",
       "      <td>Хорошие люди</td>\n",
       "      <td>ресторан</td>\n",
       "      <td>Москва, Полковая улица, 3, стр. 5</td>\n",
       "      <td>Северо-Восточный административный округ</td>\n",
       "      <td>пн-пт 08:00–21:00; сб,вс 08:00–18:00</td>\n",
       "      <td>4.0</td>\n",
       "      <td>0</td>\n",
       "      <td>120.0</td>\n",
       "      <td>средние</td>\n",
       "      <td>Средний счёт:150–600 ₽</td>\n",
       "      <td>375.0</td>\n",
       "      <td>NaN</td>\n",
       "    </tr>\n",
       "    <tr>\n",
       "      <th>6247</th>\n",
       "      <td>713168e06d2e495197d0054f42c06eae</td>\n",
       "      <td>Чайхана Зейтун</td>\n",
       "      <td>кафе</td>\n",
       "      <td>Москва, Малая Тульская улица, 57, корп. 1</td>\n",
       "      <td>Южный административный округ</td>\n",
       "      <td>ежедневно, 09:00–00:00</td>\n",
       "      <td>4.0</td>\n",
       "      <td>0</td>\n",
       "      <td>NaN</td>\n",
       "      <td>средние</td>\n",
       "      <td>Средний счёт:300–600 ₽</td>\n",
       "      <td>450.0</td>\n",
       "      <td>NaN</td>\n",
       "    </tr>\n",
       "    <tr>\n",
       "      <th>4140</th>\n",
       "      <td>743ab239320a42b6827a693d1a93aed0</td>\n",
       "      <td>Моремясо</td>\n",
       "      <td>бар,паб</td>\n",
       "      <td>Москва, 1-й Красногвардейский проезд, 15</td>\n",
       "      <td>Центральный административный округ</td>\n",
       "      <td>ежедневно, 12:00–00:00</td>\n",
       "      <td>4.4</td>\n",
       "      <td>0</td>\n",
       "      <td>236.0</td>\n",
       "      <td>высокие</td>\n",
       "      <td>Средний счёт:3000–3500 ₽</td>\n",
       "      <td>3250.0</td>\n",
       "      <td>NaN</td>\n",
       "    </tr>\n",
       "    <tr>\n",
       "      <th>5123</th>\n",
       "      <td>c35df4e972814eb4b95b312cc7f692aa</td>\n",
       "      <td>ZinTea</td>\n",
       "      <td>кофейня</td>\n",
       "      <td>Москва, Стремянный переулок, 38</td>\n",
       "      <td>Центральный административный округ</td>\n",
       "      <td>ежедневно, 10:00–22:00</td>\n",
       "      <td>4.5</td>\n",
       "      <td>0</td>\n",
       "      <td>94.0</td>\n",
       "      <td>средние</td>\n",
       "      <td>Средний счёт:300–500 ₽</td>\n",
       "      <td>400.0</td>\n",
       "      <td>NaN</td>\n",
       "    </tr>\n",
       "  </tbody>\n",
       "</table>\n",
       "</div>"
      ],
      "text/plain": [
       "                                    id                  name  category  \\\n",
       "6604  36b0becc10804fd897af9bf9855c0bfc        Shrimp Kitchen  ресторан   \n",
       "2341  e48f95a246374357ad79218fa0f49c7f            Фитнес-бар   бар,паб   \n",
       "7788  6ec9eb8a870f4a03a3efb820c5c79860  Атмосфера Хинкальная  ресторан   \n",
       "3059  1b681f18bc74487a8c77ee8b60914982          Korean Chick      кафе   \n",
       "3785  990a1edfda7b4627b898dd962d8e9e1c       Kaif Provenance  ресторан   \n",
       "1265  c932695a24834e4a8aa5337d44db973b       TaAm hummus bar   бар,паб   \n",
       "2094  3bb007db2bc046c2bf918a5e1cf253c4          Хорошие люди  ресторан   \n",
       "6247  713168e06d2e495197d0054f42c06eae        Чайхана Зейтун      кафе   \n",
       "4140  743ab239320a42b6827a693d1a93aed0              Моремясо   бар,паб   \n",
       "5123  c35df4e972814eb4b95b312cc7f692aa                ZinTea   кофейня   \n",
       "\n",
       "                                        address  \\\n",
       "6604          Москва, проспект Вернадского, 86В   \n",
       "2341    Москва, улица Сущёвский Вал, 56, стр. 1   \n",
       "7788               Москва, Касимовская улица, 4   \n",
       "3059                Москва, Кунцевская улица, 5   \n",
       "3785        Москва, улица Большая Дмитровка, 13   \n",
       "1265             Москва, Волоколамское шоссе, 6   \n",
       "2094          Москва, Полковая улица, 3, стр. 5   \n",
       "6247  Москва, Малая Тульская улица, 57, корп. 1   \n",
       "4140   Москва, 1-й Красногвардейский проезд, 15   \n",
       "5123            Москва, Стремянный переулок, 38   \n",
       "\n",
       "                                     district  \\\n",
       "6604          Западный административный округ   \n",
       "2341       Центральный административный округ   \n",
       "7788             Южный административный округ   \n",
       "3059          Западный административный округ   \n",
       "3785       Центральный административный округ   \n",
       "1265          Северный административный округ   \n",
       "2094  Северо-Восточный административный округ   \n",
       "6247             Южный административный округ   \n",
       "4140       Центральный административный округ   \n",
       "5123       Центральный административный округ   \n",
       "\n",
       "                                                  hours  rating  chain  seats  \\\n",
       "6604  пн-чт 10:00–22:00; пт,сб 10:00–23:00; вс 10:00...     4.4      0    NaN   \n",
       "2341                             ежедневно, 10:00–20:00     4.2      0  200.0   \n",
       "7788                             ежедневно, 11:00–02:00     4.1      0   48.0   \n",
       "3059                             ежедневно, 10:00–22:00     4.2      1    NaN   \n",
       "3785  пн-чт 11:00–00:00; пт,сб 11:00–05:00; вс 11:00...     4.4      0  220.0   \n",
       "1265                             ежедневно, 10:00–23:00     4.6      0    NaN   \n",
       "2094               пн-пт 08:00–21:00; сб,вс 08:00–18:00     4.0      0  120.0   \n",
       "6247                             ежедневно, 09:00–00:00     4.0      0    NaN   \n",
       "4140                             ежедневно, 12:00–00:00     4.4      0  236.0   \n",
       "5123                             ежедневно, 10:00–22:00     4.5      0   94.0   \n",
       "\n",
       "              price                  avg_bill  middle_avg_bill  \\\n",
       "6604  выше среднего  Средний счёт:1000–1500 ₽           1250.0   \n",
       "2341        средние     Средний счёт:от 800 ₽            800.0   \n",
       "7788        средние        Средний счёт:500 ₽            500.0   \n",
       "3059        средние   Средний счёт:750–1000 ₽            875.0   \n",
       "3785        высокие  Средний счёт:2000–2500 ₽           2250.0   \n",
       "1265        средние    Средний счёт:500–800 ₽            650.0   \n",
       "2094        средние    Средний счёт:150–600 ₽            375.0   \n",
       "6247        средние    Средний счёт:300–600 ₽            450.0   \n",
       "4140        высокие  Средний счёт:3000–3500 ₽           3250.0   \n",
       "5123        средние    Средний счёт:300–500 ₽            400.0   \n",
       "\n",
       "      middle_coffee_cup  \n",
       "6604                NaN  \n",
       "2341                NaN  \n",
       "7788                NaN  \n",
       "3059                NaN  \n",
       "3785                NaN  \n",
       "1265                NaN  \n",
       "2094                NaN  \n",
       "6247                NaN  \n",
       "4140                NaN  \n",
       "5123                NaN  "
      ]
     },
     "execution_count": 13,
     "metadata": {},
     "output_type": "execute_result"
    }
   ],
   "source": [
    "#вывод случайных строк, в которых указан средний чек, но не указана категория цен \n",
    "rest_df[(rest_df['avg_bill'].notna()) & (rest_df['price'].notna())].sample(10)"
   ]
  },
  {
   "cell_type": "code",
   "execution_count": 14,
   "id": "044ab47e-1d0f-4813-a0c5-78031a45291f",
   "metadata": {},
   "outputs": [
    {
     "data": {
      "text/plain": [
       "array(['ресторан', 'кафе', 'кофейня', 'пиццерия', 'бар,паб',\n",
       "       'быстрое питание', 'столовая', 'булочная'], dtype=object)"
      ]
     },
     "execution_count": 14,
     "metadata": {},
     "output_type": "execute_result"
    }
   ],
   "source": [
    "# проверка уникальных значений Категории для заведений без пропусков в среднем чеке\n",
    "rest_df[rest_df['avg_bill'].notna()]['category'].unique()"
   ]
  },
  {
   "cell_type": "code",
   "execution_count": 15,
   "id": "edb4aeeb-263f-43c9-999c-3e1419153171",
   "metadata": {},
   "outputs": [
    {
     "data": {
      "text/plain": [
       "array(['ресторан', 'кафе', 'пиццерия', 'бар,паб', 'быстрое питание',\n",
       "       'столовая', 'кофейня', 'булочная'], dtype=object)"
      ]
     },
     "execution_count": 15,
     "metadata": {},
     "output_type": "execute_result"
    }
   ],
   "source": [
    "# проверка уникальных значений Категории для заведений без пропусков в категории цены\n",
    "rest_df[rest_df['price'].notna()]['category'].unique()"
   ]
  },
  {
   "cell_type": "code",
   "execution_count": 16,
   "id": "b2232919-6fd8-4394-9e8d-f0ecc0d2d05f",
   "metadata": {},
   "outputs": [
    {
     "data": {
      "text/plain": [
       "array(['Северный административный округ',\n",
       "       'Северо-Восточный административный округ',\n",
       "       'Северо-Западный административный округ',\n",
       "       'Западный административный округ',\n",
       "       'Центральный административный округ',\n",
       "       'Восточный административный округ',\n",
       "       'Юго-Восточный административный округ',\n",
       "       'Южный административный округ',\n",
       "       'Юго-Западный административный округ'], dtype=object)"
      ]
     },
     "execution_count": 16,
     "metadata": {},
     "output_type": "execute_result"
    }
   ],
   "source": [
    "# проверка уникальных значений Округа для заведений без пропусков в среднем чеке\n",
    "rest_df[rest_df['avg_bill'].notna()]['district'].unique()"
   ]
  },
  {
   "cell_type": "code",
   "execution_count": 17,
   "id": "769b7daa-b890-4809-80b3-25ae86e6d856",
   "metadata": {},
   "outputs": [
    {
     "data": {
      "text/plain": [
       "array(['Северный административный округ',\n",
       "       'Северо-Восточный административный округ',\n",
       "       'Северо-Западный административный округ',\n",
       "       'Западный административный округ',\n",
       "       'Центральный административный округ',\n",
       "       'Восточный административный округ',\n",
       "       'Юго-Восточный административный округ',\n",
       "       'Южный административный округ',\n",
       "       'Юго-Западный административный округ'], dtype=object)"
      ]
     },
     "execution_count": 17,
     "metadata": {},
     "output_type": "execute_result"
    }
   ],
   "source": [
    "# проверка уникальных значений Округа для заведений без пропусков в категории цены\n",
    "rest_df[rest_df['price'].notna()]['district'].unique()"
   ]
  },
  {
   "cell_type": "markdown",
   "id": "e04b05c7-d690-4c7b-afb8-2996bb36b691",
   "metadata": {},
   "source": [
    "Пропуски найдены в столбцах: hours, seats, price, avg_bill, middle_avg_bill, middle_coffee_cup.\n",
    "\n",
    "- *hours* и *seats* 6% и 43% пропусков соответственно. Пропуски имеют существеный удельный вес. Удаляя все эти строки будет утерян большой объем данных, а заменяя на среднее/моду/медиану или вводя индикатор (0/ unknown), можно исказить данные и получить аномалии. Наиболее оптимальный вариант- оставить пропуски. \n",
    "\n",
    "Т.к. изначально в датафрейме rest_price было более чем в два раза меньше заведений, это объясняет большой удельный вес пропусков в столбцах price, avg_bill, middle_avg_bill, middle_coffee_cup. \n",
    "\n",
    "- *price* и *avg_bill* 60.5% и 54.6% пропусков соответственно. Взаимосвязи с параметрами из датафрейма rest_info (category, district) не выявлено (есть данные по всем возможным категориям и округам). В результате можно предположить, что отсутствие информации вызвано какими-то не участвующими в анализе параметрами (вид MNAR). В avg_bill пропусков меньше, чем в price, а значит через создание пользовательской функции с заданием условий, например, по совпадению категории и округа, на основе данных из avg_bill, возможно было бы заполнить часть пропусков в price. Но вывод случайных строк датафрейма не подтвердил наличие явной связи между категорией цены и средней ценой (есть записи где для одного и того же диапазона средней цены указаны разные категории). Поэтому все пропуски оставлены, тем более эти столбцы не являются ключевыми для проводимого исследовательского анализа. \n",
    "- *middle_avg_bil*l и *middle_coffee_cup* 62.5% и 93.6% пропусков соответственно. Можно отнести к виду MAR, т.к. их наличие объясняется переменной датафрейма- avg_bill. Если в avg_bill не содержится информация о \"Среднем чеке' или 'Цене одной чашки капучино', то значений в столбце middle_avg_bill или middle_coffee_cup соответственно не будет. При этом количество пропусков в столбце avg_bill меньше чем сумма пропусков в столбцах middle_avg_bill и middle_coffee_cup. Но это не является ошибкой, т.к. вывод уникальных значений avg_bill показал наличие не только информации о среднем чеке или цене чашки капучино, но и других данных, например 'Цена бокала пива'. Учитывая содержание этих столбцов и долю пропусков в них: удаление нецелесообразно, т.к. будет утеряна информации о больше 90% заведений; заполнение нецелесообразно, т.к. например параметр middle_coffee_cup вряд ли будет иметь ценность для бизнеса в категориях отличных от кофейни, более того эти поля не являются ключевыми для требуемого исследовательского анализа."
   ]
  },
  {
   "cell_type": "markdown",
   "id": "7ada8a97-7f92-4d98-a141-872e0ce338b9",
   "metadata": {},
   "source": [
    "В столбце *seats* помимо пропусков встрчаются нулевые значения. Можно было бы сделать предложить, что их наличие объясняется категорией заведения (например, бар или паб), но как показала выгрузка нулевые значения встречаются по всем категориям, поэтому их можно расценивать как отсутствие инфомрации о количестве посадочных мест в заведении и заменить нули на пропуски."
   ]
  },
  {
   "cell_type": "code",
   "execution_count": 18,
   "id": "00e0b7a8-f3e6-4d9c-ab37-c2e2bcd9258d",
   "metadata": {},
   "outputs": [
    {
     "data": {
      "text/plain": [
       "array(['булочная', 'ресторан', 'кафе', 'кофейня', 'пиццерия', 'бар,паб',\n",
       "       'быстрое питание', 'столовая'], dtype=object)"
      ]
     },
     "execution_count": 18,
     "metadata": {},
     "output_type": "execute_result"
    }
   ],
   "source": [
    "rest_df[rest_df['seats']== 0]['category'].unique()"
   ]
  },
  {
   "cell_type": "code",
   "execution_count": 19,
   "id": "750024b4-0d9d-4934-9ccb-15a5dcf4a15b",
   "metadata": {},
   "outputs": [],
   "source": [
    "#замена 0 в столбце seats на NaN\n",
    "rest_df['seats']=rest_df['seats'].replace(0, None)"
   ]
  },
  {
   "cell_type": "markdown",
   "id": "2dad7da9-95eb-40e5-b79a-5a89233338e0",
   "metadata": {},
   "source": [
    "Следующем этапом проведем анализ датафрейма на наличие явных и неявных дубликатов с последующим удаление.  \n",
    "Для выявления неявных дубликатов изучим значения в текстовых столбцах и нормализуемых данных в столбцах *name* и *address*."
   ]
  },
  {
   "cell_type": "code",
   "execution_count": 20,
   "id": "ab70ee1e-e4c4-43ac-b6fd-4b0570fd9a34",
   "metadata": {},
   "outputs": [
    {
     "data": {
      "text/plain": [
       "array(['Северный административный округ',\n",
       "       'Северо-Восточный административный округ',\n",
       "       'Северо-Западный административный округ',\n",
       "       'Западный административный округ',\n",
       "       'Центральный административный округ',\n",
       "       'Восточный административный округ',\n",
       "       'Юго-Восточный административный округ',\n",
       "       'Южный административный округ',\n",
       "       'Юго-Западный административный округ'], dtype=object)"
      ]
     },
     "execution_count": 20,
     "metadata": {},
     "output_type": "execute_result"
    }
   ],
   "source": [
    "rest_df['district'].unique()"
   ]
  },
  {
   "cell_type": "code",
   "execution_count": 21,
   "id": "5ddb7483-4b78-4f21-ad42-81665aafc518",
   "metadata": {},
   "outputs": [
    {
     "data": {
      "text/plain": [
       "array(['кафе', 'ресторан', 'кофейня', 'пиццерия', 'бар,паб',\n",
       "       'быстрое питание', 'булочная', 'столовая'], dtype=object)"
      ]
     },
     "execution_count": 21,
     "metadata": {},
     "output_type": "execute_result"
    }
   ],
   "source": [
    "rest_df['category'].unique()"
   ]
  },
  {
   "cell_type": "code",
   "execution_count": 22,
   "id": "bdb997d6-25c2-4e3d-8923-d2d316759bcd",
   "metadata": {},
   "outputs": [
    {
     "data": {
      "text/plain": [
       "array(['Москва, улица Дыбенко, 7/1', 'Москва, улица Дыбенко, 36, корп. 1',\n",
       "       'Москва, Клязьминская улица, 15', ...,\n",
       "       'Москва, улица Лобачевского, 52, корп. 1',\n",
       "       'Москва, Болотниковская улица, 52, корп. 2',\n",
       "       'Москва, Чонгарский бульвар, 26А, корп. 1'], dtype=object)"
      ]
     },
     "execution_count": 22,
     "metadata": {},
     "output_type": "execute_result"
    }
   ],
   "source": [
    "rest_df['address'].unique()"
   ]
  },
  {
   "cell_type": "code",
   "execution_count": 23,
   "id": "8498d3b2-c010-4973-95c2-4543df0c53d4",
   "metadata": {},
   "outputs": [
    {
     "data": {
      "text/plain": [
       "8406"
      ]
     },
     "execution_count": 23,
     "metadata": {},
     "output_type": "execute_result"
    }
   ],
   "source": [
    "#удаления явных дубликатов и подсчет строк после удаления \n",
    "rest_df.drop_duplicates().shape[0]"
   ]
  },
  {
   "cell_type": "markdown",
   "id": "cb63fa93-5bbf-4c74-8a04-d8e727748be0",
   "metadata": {},
   "source": [
    "После применения метода drop_duplicates количество строк датафрейма не изменилось, следовательно явных дубликатов не выявлено."
   ]
  },
  {
   "cell_type": "code",
   "execution_count": 24,
   "id": "632ce399-ecdc-4545-8b40-9cd2094f7f25",
   "metadata": {},
   "outputs": [],
   "source": [
    "# приведение названий к нижнему регистру, удаление пробелов в начале и конце строки, замена _ на пробел, удаление множественных пробелов\n",
    "rest_df['name']= rest_df['name'].str.lower().str.strip().str.replace('_', ' ').str.replace(r'\\s+', ' ', regex=True)\n",
    "rest_df['address']= rest_df['address'].str.lower().str.strip().str.replace('_', ' ').str.replace(r'\\s+', ' ', regex=True)"
   ]
  },
  {
   "cell_type": "code",
   "execution_count": 25,
   "id": "97eefcbd-e125-4dcf-9622-a5a97a2cabb0",
   "metadata": {},
   "outputs": [
    {
     "data": {
      "text/html": [
       "<div>\n",
       "<style scoped>\n",
       "    .dataframe tbody tr th:only-of-type {\n",
       "        vertical-align: middle;\n",
       "    }\n",
       "\n",
       "    .dataframe tbody tr th {\n",
       "        vertical-align: top;\n",
       "    }\n",
       "\n",
       "    .dataframe thead th {\n",
       "        text-align: right;\n",
       "    }\n",
       "</style>\n",
       "<table border=\"1\" class=\"dataframe\">\n",
       "  <thead>\n",
       "    <tr style=\"text-align: right;\">\n",
       "      <th></th>\n",
       "      <th>id</th>\n",
       "      <th>name</th>\n",
       "      <th>category</th>\n",
       "      <th>address</th>\n",
       "      <th>district</th>\n",
       "      <th>hours</th>\n",
       "      <th>rating</th>\n",
       "      <th>chain</th>\n",
       "      <th>seats</th>\n",
       "      <th>price</th>\n",
       "      <th>avg_bill</th>\n",
       "      <th>middle_avg_bill</th>\n",
       "      <th>middle_coffee_cup</th>\n",
       "    </tr>\n",
       "  </thead>\n",
       "  <tbody>\n",
       "  </tbody>\n",
       "</table>\n",
       "</div>"
      ],
      "text/plain": [
       "Empty DataFrame\n",
       "Columns: [id, name, category, address, district, hours, rating, chain, seats, price, avg_bill, middle_avg_bill, middle_coffee_cup]\n",
       "Index: []"
      ]
     },
     "execution_count": 25,
     "metadata": {},
     "output_type": "execute_result"
    }
   ],
   "source": [
    "#вывод дубликатов после нормализации данных в двух столбцах\n",
    "rest_df[rest_df.duplicated()== True]"
   ]
  },
  {
   "cell_type": "code",
   "execution_count": 26,
   "id": "b9225661-2c75-4bf9-8b86-576ebc4101fa",
   "metadata": {},
   "outputs": [
    {
     "data": {
      "text/html": [
       "<div>\n",
       "<style scoped>\n",
       "    .dataframe tbody tr th:only-of-type {\n",
       "        vertical-align: middle;\n",
       "    }\n",
       "\n",
       "    .dataframe tbody tr th {\n",
       "        vertical-align: top;\n",
       "    }\n",
       "\n",
       "    .dataframe thead th {\n",
       "        text-align: right;\n",
       "    }\n",
       "</style>\n",
       "<table border=\"1\" class=\"dataframe\">\n",
       "  <thead>\n",
       "    <tr style=\"text-align: right;\">\n",
       "      <th></th>\n",
       "      <th>id</th>\n",
       "      <th>name</th>\n",
       "      <th>category</th>\n",
       "      <th>address</th>\n",
       "      <th>district</th>\n",
       "      <th>hours</th>\n",
       "      <th>rating</th>\n",
       "      <th>chain</th>\n",
       "      <th>seats</th>\n",
       "      <th>price</th>\n",
       "      <th>avg_bill</th>\n",
       "      <th>middle_avg_bill</th>\n",
       "      <th>middle_coffee_cup</th>\n",
       "    </tr>\n",
       "  </thead>\n",
       "  <tbody>\n",
       "    <tr>\n",
       "      <th>189</th>\n",
       "      <td>072032ce16dc47bfbc63b672c75bd371</td>\n",
       "      <td>кафе</td>\n",
       "      <td>кафе</td>\n",
       "      <td>москва, парк ангарские пруды</td>\n",
       "      <td>Северный административный округ</td>\n",
       "      <td>ежедневно, 09:00–23:00</td>\n",
       "      <td>3.2</td>\n",
       "      <td>0</td>\n",
       "      <td>NaN</td>\n",
       "      <td>NaN</td>\n",
       "      <td>NaN</td>\n",
       "      <td>NaN</td>\n",
       "      <td>NaN</td>\n",
       "    </tr>\n",
       "    <tr>\n",
       "      <th>215</th>\n",
       "      <td>897ddbc6746c4388b19dc8a9fcdbb488</td>\n",
       "      <td>кафе</td>\n",
       "      <td>кафе</td>\n",
       "      <td>москва, парк ангарские пруды</td>\n",
       "      <td>Северный административный округ</td>\n",
       "      <td>ежедневно, 10:00–22:00</td>\n",
       "      <td>3.2</td>\n",
       "      <td>0</td>\n",
       "      <td>NaN</td>\n",
       "      <td>NaN</td>\n",
       "      <td>NaN</td>\n",
       "      <td>NaN</td>\n",
       "      <td>NaN</td>\n",
       "    </tr>\n",
       "    <tr>\n",
       "      <th>1430</th>\n",
       "      <td>62608690e9cc464fbcd980cfd552e334</td>\n",
       "      <td>more poke</td>\n",
       "      <td>ресторан</td>\n",
       "      <td>москва, волоколамское шоссе, 11, стр. 2</td>\n",
       "      <td>Северный административный округ</td>\n",
       "      <td>ежедневно, 09:00–21:00</td>\n",
       "      <td>4.2</td>\n",
       "      <td>0</td>\n",
       "      <td>188.0</td>\n",
       "      <td>NaN</td>\n",
       "      <td>NaN</td>\n",
       "      <td>NaN</td>\n",
       "      <td>NaN</td>\n",
       "    </tr>\n",
       "    <tr>\n",
       "      <th>1511</th>\n",
       "      <td>a69f018d5c064873a3b491b0121bc1b4</td>\n",
       "      <td>more poke</td>\n",
       "      <td>ресторан</td>\n",
       "      <td>москва, волоколамское шоссе, 11, стр. 2</td>\n",
       "      <td>Северный административный округ</td>\n",
       "      <td>пн-чт 09:00–18:00; пт,сб 09:00–21:00; вс 09:00...</td>\n",
       "      <td>4.2</td>\n",
       "      <td>1</td>\n",
       "      <td>188.0</td>\n",
       "      <td>NaN</td>\n",
       "      <td>NaN</td>\n",
       "      <td>NaN</td>\n",
       "      <td>NaN</td>\n",
       "    </tr>\n",
       "    <tr>\n",
       "      <th>2211</th>\n",
       "      <td>c6ef39ae8a8c483d8f9a6531bc386a2c</td>\n",
       "      <td>раковарня клешни и хвосты</td>\n",
       "      <td>ресторан</td>\n",
       "      <td>москва, проспект мира, 118</td>\n",
       "      <td>Северо-Восточный административный округ</td>\n",
       "      <td>ежедневно, 12:00–00:00</td>\n",
       "      <td>4.4</td>\n",
       "      <td>0</td>\n",
       "      <td>150.0</td>\n",
       "      <td>NaN</td>\n",
       "      <td>NaN</td>\n",
       "      <td>NaN</td>\n",
       "      <td>NaN</td>\n",
       "    </tr>\n",
       "    <tr>\n",
       "      <th>2420</th>\n",
       "      <td>aba1de7ad7d64ac0a3f8684bda29d905</td>\n",
       "      <td>раковарня клешни и хвосты</td>\n",
       "      <td>бар,паб</td>\n",
       "      <td>москва, проспект мира, 118</td>\n",
       "      <td>Северо-Восточный административный округ</td>\n",
       "      <td>пн-чт 12:00–00:00; пт,сб 12:00–01:00; вс 12:00...</td>\n",
       "      <td>4.4</td>\n",
       "      <td>1</td>\n",
       "      <td>150.0</td>\n",
       "      <td>NaN</td>\n",
       "      <td>NaN</td>\n",
       "      <td>NaN</td>\n",
       "      <td>NaN</td>\n",
       "    </tr>\n",
       "    <tr>\n",
       "      <th>3091</th>\n",
       "      <td>3c2a73ea79a04be48858fab3685f2f37</td>\n",
       "      <td>хлеб да выпечка</td>\n",
       "      <td>булочная</td>\n",
       "      <td>москва, ярцевская улица, 19</td>\n",
       "      <td>Западный административный округ</td>\n",
       "      <td>ежедневно, 09:00–22:00</td>\n",
       "      <td>4.1</td>\n",
       "      <td>1</td>\n",
       "      <td>276.0</td>\n",
       "      <td>NaN</td>\n",
       "      <td>NaN</td>\n",
       "      <td>NaN</td>\n",
       "      <td>NaN</td>\n",
       "    </tr>\n",
       "    <tr>\n",
       "      <th>3109</th>\n",
       "      <td>d3116844e4e048f99614eb30be3214e0</td>\n",
       "      <td>хлеб да выпечка</td>\n",
       "      <td>кафе</td>\n",
       "      <td>москва, ярцевская улица, 19</td>\n",
       "      <td>Западный административный округ</td>\n",
       "      <td>NaN</td>\n",
       "      <td>4.1</td>\n",
       "      <td>0</td>\n",
       "      <td>276.0</td>\n",
       "      <td>NaN</td>\n",
       "      <td>NaN</td>\n",
       "      <td>NaN</td>\n",
       "      <td>NaN</td>\n",
       "    </tr>\n",
       "  </tbody>\n",
       "</table>\n",
       "</div>"
      ],
      "text/plain": [
       "                                    id                       name  category  \\\n",
       "189   072032ce16dc47bfbc63b672c75bd371                       кафе      кафе   \n",
       "215   897ddbc6746c4388b19dc8a9fcdbb488                       кафе      кафе   \n",
       "1430  62608690e9cc464fbcd980cfd552e334                  more poke  ресторан   \n",
       "1511  a69f018d5c064873a3b491b0121bc1b4                  more poke  ресторан   \n",
       "2211  c6ef39ae8a8c483d8f9a6531bc386a2c  раковарня клешни и хвосты  ресторан   \n",
       "2420  aba1de7ad7d64ac0a3f8684bda29d905  раковарня клешни и хвосты   бар,паб   \n",
       "3091  3c2a73ea79a04be48858fab3685f2f37            хлеб да выпечка  булочная   \n",
       "3109  d3116844e4e048f99614eb30be3214e0            хлеб да выпечка      кафе   \n",
       "\n",
       "                                      address  \\\n",
       "189              москва, парк ангарские пруды   \n",
       "215              москва, парк ангарские пруды   \n",
       "1430  москва, волоколамское шоссе, 11, стр. 2   \n",
       "1511  москва, волоколамское шоссе, 11, стр. 2   \n",
       "2211               москва, проспект мира, 118   \n",
       "2420               москва, проспект мира, 118   \n",
       "3091              москва, ярцевская улица, 19   \n",
       "3109              москва, ярцевская улица, 19   \n",
       "\n",
       "                                     district  \\\n",
       "189           Северный административный округ   \n",
       "215           Северный административный округ   \n",
       "1430          Северный административный округ   \n",
       "1511          Северный административный округ   \n",
       "2211  Северо-Восточный административный округ   \n",
       "2420  Северо-Восточный административный округ   \n",
       "3091          Западный административный округ   \n",
       "3109          Западный административный округ   \n",
       "\n",
       "                                                  hours  rating  chain  seats  \\\n",
       "189                              ежедневно, 09:00–23:00     3.2      0    NaN   \n",
       "215                              ежедневно, 10:00–22:00     3.2      0    NaN   \n",
       "1430                             ежедневно, 09:00–21:00     4.2      0  188.0   \n",
       "1511  пн-чт 09:00–18:00; пт,сб 09:00–21:00; вс 09:00...     4.2      1  188.0   \n",
       "2211                             ежедневно, 12:00–00:00     4.4      0  150.0   \n",
       "2420  пн-чт 12:00–00:00; пт,сб 12:00–01:00; вс 12:00...     4.4      1  150.0   \n",
       "3091                             ежедневно, 09:00–22:00     4.1      1  276.0   \n",
       "3109                                                NaN     4.1      0  276.0   \n",
       "\n",
       "     price avg_bill  middle_avg_bill  middle_coffee_cup  \n",
       "189    NaN      NaN              NaN                NaN  \n",
       "215    NaN      NaN              NaN                NaN  \n",
       "1430   NaN      NaN              NaN                NaN  \n",
       "1511   NaN      NaN              NaN                NaN  \n",
       "2211   NaN      NaN              NaN                NaN  \n",
       "2420   NaN      NaN              NaN                NaN  \n",
       "3091   NaN      NaN              NaN                NaN  \n",
       "3109   NaN      NaN              NaN                NaN  "
      ]
     },
     "execution_count": 26,
     "metadata": {},
     "output_type": "execute_result"
    }
   ],
   "source": [
    "#вывод дубликатов по двум полям 'name', 'address'\n",
    "rest_df[rest_df.duplicated(subset=['name', 'address'], keep=False)== True]"
   ]
  },
  {
   "cell_type": "markdown",
   "id": "1f9fa96b-471c-4c67-b604-a6e153f59efe",
   "metadata": {},
   "source": [
    "Все выведенные записи с большой вероятностью можно отнести к дубликатам: совпадение ни только в связке *name*-*address*, но и рейтинге, количестве посадочных мест. В части *chain* изначально в описании данных было допущение о том, что в данных могут встречаться ошибки. Есть отличие в категория и графике работы, но эти параметры можно расценить как ошибку или субъективное мнение при определении категории заведения."
   ]
  },
  {
   "cell_type": "code",
   "execution_count": 27,
   "id": "0e68bb0d-dddb-49d3-838e-445af95ed4ae",
   "metadata": {},
   "outputs": [],
   "source": [
    "#удаление дубликатов по связке name-address \n",
    "rest_df.drop_duplicates(subset=['name', 'address'], inplace= True)"
   ]
  },
  {
   "cell_type": "code",
   "execution_count": 28,
   "id": "d3066ce2-6593-497a-a4b0-7324ff102b0d",
   "metadata": {},
   "outputs": [],
   "source": [
    "# разделение данных в столбце hours по символу пробелара\n",
    "hours_df= rest_df['hours'].str.split(' ', expand=True)"
   ]
  },
  {
   "cell_type": "code",
   "execution_count": 29,
   "id": "c08224c4-eabe-40f5-a33f-2aec5159821d",
   "metadata": {},
   "outputs": [
    {
     "data": {
      "text/plain": [
       "array(['ежедневно,', 'пн-чт', 'пн', 'вт-сб', 'пн-пт', nan, 'пн-сб',\n",
       "       'вт-вс', 'пн,вт,ср,чт,пт,вс', 'пн,ср,чт,пт,сб,вс', 'чт', 'вт,чт',\n",
       "       'пн-ср', 'вт-пт', 'чт-вс', 'сб', 'пт-вс', 'пн,вт', 'пт,сб',\n",
       "       'вт-чт', 'сб,вс', 'ср-пт', 'пн,вт,чт,пт,сб,вс', 'ср-вс', 'ср,чт',\n",
       "       'вт', 'пт', 'пн,вт,ср,чт,вс', 'Нет', 'пн,вс', 'вт,чт,пт,сб,вс',\n",
       "       'пн,вт,ср,пт,сб,вс', 'пн,вт,ср,чт,сб,вс', 'ср'], dtype=object)"
      ]
     },
     "execution_count": 29,
     "metadata": {},
     "output_type": "execute_result"
    }
   ],
   "source": [
    "#вывод уникальных значений первого столбца\n",
    "hours_df[0].unique()"
   ]
  },
  {
   "cell_type": "code",
   "execution_count": 30,
   "id": "667dda06-476e-4694-a10f-5169080034af",
   "metadata": {},
   "outputs": [
    {
     "data": {
      "text/plain": [
       "array(['10:00–22:00', '11:00–02:00;', '09:00–22:00', '10:00–23:00',\n",
       "       '15:00–04:00;', '10:00–22:00;', '12:00–00:00', 'круглосуточно',\n",
       "       '10:00–21:00', '09:00–18:00', '08:00–22:00', '13:00–00:00',\n",
       "       '08:30–18:30;', '09:00–21:00', '11:00–22:00;', '08:00–22:00;',\n",
       "       '10:00–19:00', '09:00–16:00', '08:00–21:00', '09:00–23:00',\n",
       "       '08:00–23:00', nan, '08:00–18:00', '09:00–19:00', '11:00–00:00',\n",
       "       '09:00–02:00', '12:00–23:00', '12:00–03:00', '16:00–06:00',\n",
       "       '12:30–00:00;', '11:00–23:00;', '08:00–19:00', '12:00–23:00;',\n",
       "       '09:00–01:00', '11:00–23:00', '10:00–21:00;', '08:30–17:00',\n",
       "       '09:00–22:00;', '14:00–00:00;', '08:30–18:30', '12:00–03:00;',\n",
       "       '09:00–20:00', '07:30–18:30', '09:00–06:00', '10:00–21:30',\n",
       "       '08:00–00:00', '06:00–20:00', '10:00–20:00', '11:00–22:00',\n",
       "       '10:30–23:00', '07:00–00:00', '10:00–22:00,', '13:00–04:00',\n",
       "       '08:00–20:00;', '11:00–00:00;', '12:00–02:00;', '08:00–16:00',\n",
       "       '11:00–19:00', '08:00–21:00;', '16:00–04:00', '09:00–00:00',\n",
       "       '09:00–20:00;', '15:00–19:00', '10:00–01:00', '11:00–05:00;',\n",
       "       '12:00–00:00;', '11:00–22:30', '07:30–00:30', '08:30–23:30',\n",
       "       '17:00–00:00;', '10:00–23:00;', '13:00–01:00', '11:00–06:00',\n",
       "       '09:00–23:00;', '07:00–23:00', '18:00–05:00', '11:00–21:30',\n",
       "       '12:32–00:00;', '10:00–00:00', '20:00–02:00;', '09:00–11:00;',\n",
       "       '11:00–21:00;', '12:00–21:00;', '11:30–23:00;', '11:30–00:00',\n",
       "       '11:00–02:00', '12:00–20:00;', '08:00–20:00', '12:00–01:00;',\n",
       "       '08:30–21:30;', '07:00–02:00', '07:00–21:00;', '09:00–23:45',\n",
       "       '12:00–05:00', '07:30–23:00;', '20:00–06:00', '11:00–16:00',\n",
       "       '12:00–02:00', '10:00–00:00;', '12:00–01:00', '07:00–22:00;',\n",
       "       '09:00–21:00;', '14:00–02:00', '14:00–02:00;', '11:00–22:45;',\n",
       "       '09:00–21:30', '07:00–22:00', '08:00–00:00;', '10:00–04:00',\n",
       "       '12:00–23:45', '11:00–22:45', '17:00–05:00', '11:00–01:00',\n",
       "       '07:00–23:00;', '08:00–17:00', '13:00–23:00', '08:00–16:30',\n",
       "       '07:00–21:00', '09:30–23:00', '08:00–23:00;', '10:00–01:00;',\n",
       "       '08:00–18:30', '11:00–03:00', '11:00–10:00', '12:00–14:00',\n",
       "       '09:00–18:00;', '10:00–20:30;', '07:15–20:00', '12:00–22:00',\n",
       "       '08:00–19:30', '09:00–17:00', '08:00–18:00;', '07:30–21:00',\n",
       "       '10:00–22:30', '07:00–20:00;', '08:30–15:00', '12:00–06:00',\n",
       "       '00:01–12:00,', '07:30–20:00;', '09:00–00:00;', '14:00–03:00;',\n",
       "       '10:00–20:00;', '10:00–02:00', '10:00–05:00', '10:00–18:00',\n",
       "       '12:00–07:00;', '08:30–21:00', '07:30–18:00', '11:00–21:00',\n",
       "       '18:00–00:00;', '12:00–00:30', '08:30–19:00', '10:00–16:00;',\n",
       "       '09:30–22:00', '10:00–23:10', '10:30–21:30;', '09:00–22:30',\n",
       "       '11:30–23:30', '08:15–16:00', '10:45–21:00', '09:00–17:30',\n",
       "       '07:00–19:00', '08:30–21:00;', '12:00–06:00;', '11:30–15:30',\n",
       "       '09:00–05:00', '08:30–17:30', '11:30–22:00;', '11:00–19:00;',\n",
       "       '08:00–19:00;', '10:00–19:00;', '08:00–22:15;', '20:00–06:00;',\n",
       "       '11:00–22:30;', '11:00–20:00;', '11:00–19:30;', '08:00–22:30',\n",
       "       '08:00–02:00', '08:30–18:00', '07:00–16:00;', '11:00–20:00',\n",
       "       '14:00–01:30', '11:00–18:00', '11:00–18:45', '14:00–01:00;',\n",
       "       '11:00–01:00;', '11:45–22:30', '10:00–22:30;', '10:00–20:30',\n",
       "       '10:00–21:55', '08:00–23:55', '08:30–22:00;', '06:30–21:30;',\n",
       "       '11:30–22:00', '12:00–21:00', '11:00–03:00;', '09:30–19:00;',\n",
       "       '09:00–17:00,', '08:00–17:00;', '08:30–21:30', '11:30–23:00',\n",
       "       '17:00–00:00', '08:00–21:30;', '10:00–21:30;', '07:30–20:30;',\n",
       "       '13:00–01:00;', '07:00–20:00', '07:30–21:00;', '10:45–22:45',\n",
       "       '11:30–21:00', '09:30–20:30', '19:00–06:00', '10:30–22:30',\n",
       "       '07:30–22:00;', '10:00–22:45', '10:00–03:00;', '10:00–22:50',\n",
       "       '09:00–15:00', '10:30–21:30', '11:30–00:00;', '07:45–21:00;',\n",
       "       '07:30–23:00', '08:30–20:00;', '10:30–00:00', '08:00–21:30',\n",
       "       '09:00–02:00;', '11:30–21:30', '09:00–19:00;', '12:00–22:00;',\n",
       "       '10:00–16:00', '07:30–22:00', '11:00–21:45;', '11:30–19:00',\n",
       "       '12:00–23:30', '18:00–02:00;', '07:30–20:00', '09:00–16:30;',\n",
       "       'круглосуточно;', '11:00–23:30;', '09:30–19:30;', '11:00–17:00',\n",
       "       '09:00–17:00;', '08:30–20:00', '10:00–17:00', '12:00–17:00',\n",
       "       '07:45–21:30', '07:30–19:30;', '09:00–16:30', '11:00–05:00',\n",
       "       '06:30–23:00,', '06:55–22:05', '06:00–23:00', '11:00–22:50',\n",
       "       '18:00–06:00', '11:00–04:00', '09:30–19:30', '10:00–16:30',\n",
       "       '18:50–06:00', '08:30–17:50', '08:30–20:30', '14:00–23:00;',\n",
       "       '12:00–16:00', '09:00–18:30', '09:00–19:30;', '11:00–22:35;',\n",
       "       '06:00–03:00', '08:30–19:00;', '12:30–23:00', '09:30–21:00',\n",
       "       '08:30–22:00', '07:40–22:00', '06:30–11:00', '11:00–23:30',\n",
       "       '14:00–22:00', '06:00–02:00', '12:00–22:45', '22:00–06:00',\n",
       "       '06:30–22:30', '07:00–00:00;', '08:30–23:00;', '10:00–23:30',\n",
       "       '08:30–20:30;', '11:30–02:00', '10:00–03:00', '12:00–20:00',\n",
       "       '08:30–19:30', '05:00–02:00', '10:00–18:00;', '09:00–23:00,',\n",
       "       '15:00–04:00', '11:30–14:30', '09:00–15:30', '11:30–00:30',\n",
       "       '11:00–00:30;', '13:00–02:00;', '09:00–19:45;', '08:30–22:30',\n",
       "       '07:00–19:00;', '09:30–18:00', '09:00–21:40;', '13:00–15:00',\n",
       "       '07:30–00:00;', '10:30–22:30;', '07:30–00:00', '12:00–23:00,',\n",
       "       '17:00–23:00;', '09:00–23:30', '08:30–00:00;', '08:30–00:00',\n",
       "       '07:00–18:00', '17:00–23:00', '15:00–05:00', '15:00–00:00;',\n",
       "       '09:00–03:00', '18:00–03:00;', '11:30–22:45', '08:30–23:00',\n",
       "       '10:30–06:00', '08:30–16:00', '17:00–03:00;', '10:00–02:00;',\n",
       "       '10:00–22:40', '10:00–06:00', '16:00–23:00', '11:00–21:45',\n",
       "       '09:00–01:00;', '16:00–00:00;', '10:00–21:45', '15:00–00:00',\n",
       "       '06:30–23:00', '07:30–11:00', '06:00–16:00;', '08:00–16:30;',\n",
       "       '13:00–21:00;', '10:30–21:00', '08:00–06:00', '07:00–21:00,',\n",
       "       '09:30–23:00;', '13:00–00:00;', '07:00–05:00;', '07:50–21:00',\n",
       "       '18:00–06:00;', '09:30–15:00', '06:30–00:00;', '07:00–23:00,',\n",
       "       '15:00–17:00', '06:00–19:00', '07:00–22:30;', '09:30–18:30',\n",
       "       '08:00–21:50;', '07:30–17:00;', '10:00–21:45;', '18:00–05:30',\n",
       "       '12:00–23:30;', '11:30–05:00', '18:00–01:00;', '18:00–04:00;',\n",
       "       '07:30–17:30', '09:00–00:30;', '07:45–20:00;', '11:00–20:30',\n",
       "       '17:00–01:00;', '12:00–22:30;', '08:30–17:00;', '08:00–01:00',\n",
       "       '08:00–02:00;', '06:00–00:00;', '07:30–19:00;', '11:00–06:00;',\n",
       "       '13:00–22:00', '12:00–04:00', '09:30–22:30', '07:00–22:30',\n",
       "       '10:10–23:00;', '07:00–17:00;', '07:30–19:00', '08:00–19:30;',\n",
       "       '09:30–00:00;', '09:15–21:00', '13:00–00:30;', '07:59–21:00;',\n",
       "       '08:30–16:30', '12:00–05:00;', '07:00–05:00', '08:30–18:00;',\n",
       "       '09:30–21:30', '06:30–23:00;', 'информации', '10:00–17:30',\n",
       "       '10:00–22:45;', '08:00–17:30;', '10:00–19:30', '18:00–22:30',\n",
       "       '09:00–16:00;', '11:00–23:25', '10:30–22:45', '10:00–23:50',\n",
       "       '08:00–17:30', '11:00–22:40', '13:00–04:00;', '16:00–23:00;',\n",
       "       '15:00–01:00;', '06:30–18:30', '08:20–21:30;', '11:30–17:00',\n",
       "       '12:00–21:30', 'круглосуточно,', '11:30–03:00', '14:00–23:00',\n",
       "       '10:00–04:30', '08:30–19:30;', '11:30–23:30;', '11:00–23:45',\n",
       "       '15:00–00:30;', '08:30–17:30;', '19:00–23:00', '16:00–00:00',\n",
       "       '10:30–22:00;', '08:15–18:00', '07:00–21:30', '07:00–01:00,',\n",
       "       '10:30–22:00', '07:00–02:00;', '12:00–22:00,', '18:00–02:00',\n",
       "       '10:00–00:30', '09:00–23:30;', '07:30–16:30', '07:45–20:00',\n",
       "       '05:00–03:00', '08:00–22:45', '09:00–01:45', '13:00–15:30',\n",
       "       '11:00–00:30', '09:30–17:30', '08:00–03:00', '11:30–16:00',\n",
       "       '09:00–22:30;', '11:00–02:30;', '08:00–17:00,', '05:00–00:00',\n",
       "       '07:00–17:30', '09:30–15:45', '09:30–22:00;', '11:45–00:00;',\n",
       "       '06:00–18:00', '07:00–03:00', '07:30–02:00', '04:00–18:00',\n",
       "       '11:00–15:00', '06:00–17:00', '05:00–19:00', '06:00–00:00',\n",
       "       '09:00–11:00', '10:15–22:45', '08:00–18:45', '08:00–05:00',\n",
       "       '21:00–04:00', '17:00–05:00;', '07:30–19:30', '10:05–22:05',\n",
       "       '10:30–04:00;', '15:00–02:00;', '11:00–22:15;', '06:00–21:00',\n",
       "       '06:00–02:55', '07:00–01:00', '00:00–12:00,', '11:00–23:15;',\n",
       "       '09:00–17:45', '12:00–16:30', '09:00–20:30', '07:00–17:00',\n",
       "       '08:15–19:45', '19:00–03:00;', '09:00–01:30', '00:00–21:00;',\n",
       "       '13:00–22:00;'], dtype=object)"
      ]
     },
     "execution_count": 30,
     "metadata": {},
     "output_type": "execute_result"
    }
   ],
   "source": [
    "#вывод уникальных значений второго столбца\n",
    "hours_df[1].unique()"
   ]
  },
  {
   "cell_type": "code",
   "execution_count": 31,
   "id": "db656812-3a1d-4f0e-925e-b6436e444487",
   "metadata": {},
   "outputs": [],
   "source": [
    "#удаление пробелов, запятых во втором столбце\n",
    "hours_df[1]= hours_df[1].replace(r'[\\s;,]', '', regex=True)"
   ]
  },
  {
   "cell_type": "code",
   "execution_count": 32,
   "id": "97689ca3-2ea5-4e32-9d3e-d29ce14ff9cc",
   "metadata": {},
   "outputs": [
    {
     "data": {
      "text/plain": [
       "array(['10:00–22:00', '11:00–02:00', '09:00–22:00', '10:00–23:00',\n",
       "       '15:00–04:00', '12:00–00:00', 'круглосуточно', '10:00–21:00',\n",
       "       '09:00–18:00', '08:00–22:00', '13:00–00:00', '08:30–18:30',\n",
       "       '09:00–21:00', '11:00–22:00', '10:00–19:00', '09:00–16:00',\n",
       "       '08:00–21:00', '09:00–23:00', '08:00–23:00', nan, '08:00–18:00',\n",
       "       '09:00–19:00', '11:00–00:00', '09:00–02:00', '12:00–23:00',\n",
       "       '12:00–03:00', '16:00–06:00', '12:30–00:00', '11:00–23:00',\n",
       "       '08:00–19:00', '09:00–01:00', '08:30–17:00', '14:00–00:00',\n",
       "       '09:00–20:00', '07:30–18:30', '09:00–06:00', '10:00–21:30',\n",
       "       '08:00–00:00', '06:00–20:00', '10:00–20:00', '10:30–23:00',\n",
       "       '07:00–00:00', '13:00–04:00', '08:00–20:00', '12:00–02:00',\n",
       "       '08:00–16:00', '11:00–19:00', '16:00–04:00', '09:00–00:00',\n",
       "       '15:00–19:00', '10:00–01:00', '11:00–05:00', '11:00–22:30',\n",
       "       '07:30–00:30', '08:30–23:30', '17:00–00:00', '13:00–01:00',\n",
       "       '11:00–06:00', '07:00–23:00', '18:00–05:00', '11:00–21:30',\n",
       "       '12:32–00:00', '10:00–00:00', '20:00–02:00', '09:00–11:00',\n",
       "       '11:00–21:00', '12:00–21:00', '11:30–23:00', '11:30–00:00',\n",
       "       '12:00–20:00', '12:00–01:00', '08:30–21:30', '07:00–02:00',\n",
       "       '07:00–21:00', '09:00–23:45', '12:00–05:00', '07:30–23:00',\n",
       "       '20:00–06:00', '11:00–16:00', '07:00–22:00', '14:00–02:00',\n",
       "       '11:00–22:45', '09:00–21:30', '10:00–04:00', '12:00–23:45',\n",
       "       '17:00–05:00', '11:00–01:00', '08:00–17:00', '13:00–23:00',\n",
       "       '08:00–16:30', '09:30–23:00', '08:00–18:30', '11:00–03:00',\n",
       "       '11:00–10:00', '12:00–14:00', '10:00–20:30', '07:15–20:00',\n",
       "       '12:00–22:00', '08:00–19:30', '09:00–17:00', '07:30–21:00',\n",
       "       '10:00–22:30', '07:00–20:00', '08:30–15:00', '12:00–06:00',\n",
       "       '00:01–12:00', '07:30–20:00', '14:00–03:00', '10:00–02:00',\n",
       "       '10:00–05:00', '10:00–18:00', '12:00–07:00', '08:30–21:00',\n",
       "       '07:30–18:00', '18:00–00:00', '12:00–00:30', '08:30–19:00',\n",
       "       '10:00–16:00', '09:30–22:00', '10:00–23:10', '10:30–21:30',\n",
       "       '09:00–22:30', '11:30–23:30', '08:15–16:00', '10:45–21:00',\n",
       "       '09:00–17:30', '07:00–19:00', '11:30–15:30', '09:00–05:00',\n",
       "       '08:30–17:30', '11:30–22:00', '08:00–22:15', '11:00–20:00',\n",
       "       '11:00–19:30', '08:00–22:30', '08:00–02:00', '08:30–18:00',\n",
       "       '07:00–16:00', '14:00–01:30', '11:00–18:00', '11:00–18:45',\n",
       "       '14:00–01:00', '11:45–22:30', '10:00–21:55', '08:00–23:55',\n",
       "       '08:30–22:00', '06:30–21:30', '09:30–19:00', '08:00–21:30',\n",
       "       '07:30–20:30', '10:45–22:45', '11:30–21:00', '09:30–20:30',\n",
       "       '19:00–06:00', '10:30–22:30', '07:30–22:00', '10:00–22:45',\n",
       "       '10:00–03:00', '10:00–22:50', '09:00–15:00', '07:45–21:00',\n",
       "       '08:30–20:00', '10:30–00:00', '11:30–21:30', '11:00–21:45',\n",
       "       '11:30–19:00', '12:00–23:30', '18:00–02:00', '09:00–16:30',\n",
       "       '11:00–23:30', '09:30–19:30', '11:00–17:00', '10:00–17:00',\n",
       "       '12:00–17:00', '07:45–21:30', '07:30–19:30', '06:30–23:00',\n",
       "       '06:55–22:05', '06:00–23:00', '11:00–22:50', '18:00–06:00',\n",
       "       '11:00–04:00', '10:00–16:30', '18:50–06:00', '08:30–17:50',\n",
       "       '08:30–20:30', '14:00–23:00', '12:00–16:00', '09:00–18:30',\n",
       "       '09:00–19:30', '11:00–22:35', '06:00–03:00', '12:30–23:00',\n",
       "       '09:30–21:00', '07:40–22:00', '06:30–11:00', '14:00–22:00',\n",
       "       '06:00–02:00', '12:00–22:45', '22:00–06:00', '06:30–22:30',\n",
       "       '08:30–23:00', '10:00–23:30', '11:30–02:00', '08:30–19:30',\n",
       "       '05:00–02:00', '11:30–14:30', '09:00–15:30', '11:30–00:30',\n",
       "       '11:00–00:30', '13:00–02:00', '09:00–19:45', '08:30–22:30',\n",
       "       '09:30–18:00', '09:00–21:40', '13:00–15:00', '07:30–00:00',\n",
       "       '17:00–23:00', '09:00–23:30', '08:30–00:00', '07:00–18:00',\n",
       "       '15:00–05:00', '15:00–00:00', '09:00–03:00', '18:00–03:00',\n",
       "       '11:30–22:45', '10:30–06:00', '08:30–16:00', '17:00–03:00',\n",
       "       '10:00–22:40', '10:00–06:00', '16:00–23:00', '16:00–00:00',\n",
       "       '10:00–21:45', '07:30–11:00', '06:00–16:00', '13:00–21:00',\n",
       "       '10:30–21:00', '08:00–06:00', '07:00–05:00', '07:50–21:00',\n",
       "       '09:30–15:00', '06:30–00:00', '15:00–17:00', '06:00–19:00',\n",
       "       '07:00–22:30', '09:30–18:30', '08:00–21:50', '07:30–17:00',\n",
       "       '18:00–05:30', '11:30–05:00', '18:00–01:00', '18:00–04:00',\n",
       "       '07:30–17:30', '09:00–00:30', '07:45–20:00', '11:00–20:30',\n",
       "       '17:00–01:00', '12:00–22:30', '08:00–01:00', '06:00–00:00',\n",
       "       '07:30–19:00', '13:00–22:00', '12:00–04:00', '09:30–22:30',\n",
       "       '10:10–23:00', '07:00–17:00', '09:30–00:00', '09:15–21:00',\n",
       "       '13:00–00:30', '07:59–21:00', '08:30–16:30', '09:30–21:30',\n",
       "       'информации', '10:00–17:30', '08:00–17:30', '10:00–19:30',\n",
       "       '18:00–22:30', '11:00–23:25', '10:30–22:45', '10:00–23:50',\n",
       "       '11:00–22:40', '15:00–01:00', '06:30–18:30', '08:20–21:30',\n",
       "       '11:30–17:00', '12:00–21:30', '11:30–03:00', '10:00–04:30',\n",
       "       '11:00–23:45', '15:00–00:30', '19:00–23:00', '10:30–22:00',\n",
       "       '08:15–18:00', '07:00–21:30', '07:00–01:00', '10:00–00:30',\n",
       "       '07:30–16:30', '05:00–03:00', '08:00–22:45', '09:00–01:45',\n",
       "       '13:00–15:30', '09:30–17:30', '08:00–03:00', '11:30–16:00',\n",
       "       '11:00–02:30', '05:00–00:00', '07:00–17:30', '09:30–15:45',\n",
       "       '11:45–00:00', '06:00–18:00', '07:00–03:00', '07:30–02:00',\n",
       "       '04:00–18:00', '11:00–15:00', '06:00–17:00', '05:00–19:00',\n",
       "       '10:15–22:45', '08:00–18:45', '08:00–05:00', '21:00–04:00',\n",
       "       '10:05–22:05', '10:30–04:00', '15:00–02:00', '11:00–22:15',\n",
       "       '06:00–21:00', '06:00–02:55', '00:00–12:00', '11:00–23:15',\n",
       "       '09:00–17:45', '12:00–16:30', '09:00–20:30', '08:15–19:45',\n",
       "       '19:00–03:00', '09:00–01:30', '00:00–21:00'], dtype=object)"
      ]
     },
     "execution_count": 32,
     "metadata": {},
     "output_type": "execute_result"
    }
   ],
   "source": [
    "#вывод уникальных значений второго столбца после корректировки \n",
    "hours_df[1].unique()"
   ]
  },
  {
   "cell_type": "code",
   "execution_count": 33,
   "id": "e94bc8d9-b5b4-403a-9d14-dc2517fc4ddf",
   "metadata": {},
   "outputs": [],
   "source": [
    "#создание пользовательской функции для заполнения значений в столбце *is_24_7*\n",
    "def is_24_7(row):\n",
    "    if (row[0]== 'ежедневно,') & (row[1]== 'круглосуточно'):\n",
    "        return True\n",
    "    else:\n",
    "        return False \n",
    "\n",
    "hours_df['is_24_7']= hours_df.apply(is_24_7, axis=1)"
   ]
  },
  {
   "cell_type": "code",
   "execution_count": 34,
   "id": "7b97168b-f473-4574-9803-cb46dbd5a251",
   "metadata": {},
   "outputs": [
    {
     "data": {
      "text/html": [
       "<div>\n",
       "<style scoped>\n",
       "    .dataframe tbody tr th:only-of-type {\n",
       "        vertical-align: middle;\n",
       "    }\n",
       "\n",
       "    .dataframe tbody tr th {\n",
       "        vertical-align: top;\n",
       "    }\n",
       "\n",
       "    .dataframe thead th {\n",
       "        text-align: right;\n",
       "    }\n",
       "</style>\n",
       "<table border=\"1\" class=\"dataframe\">\n",
       "  <thead>\n",
       "    <tr style=\"text-align: right;\">\n",
       "      <th></th>\n",
       "      <th>0</th>\n",
       "      <th>1</th>\n",
       "      <th>2</th>\n",
       "      <th>3</th>\n",
       "      <th>4</th>\n",
       "      <th>5</th>\n",
       "      <th>6</th>\n",
       "      <th>7</th>\n",
       "      <th>8</th>\n",
       "      <th>9</th>\n",
       "      <th>10</th>\n",
       "      <th>11</th>\n",
       "      <th>is_24_7</th>\n",
       "    </tr>\n",
       "  </thead>\n",
       "  <tbody>\n",
       "    <tr>\n",
       "      <th>0</th>\n",
       "      <td>ежедневно,</td>\n",
       "      <td>10:00–22:00</td>\n",
       "      <td>None</td>\n",
       "      <td>None</td>\n",
       "      <td>None</td>\n",
       "      <td>None</td>\n",
       "      <td>None</td>\n",
       "      <td>None</td>\n",
       "      <td>None</td>\n",
       "      <td>None</td>\n",
       "      <td>None</td>\n",
       "      <td>None</td>\n",
       "      <td>False</td>\n",
       "    </tr>\n",
       "    <tr>\n",
       "      <th>1</th>\n",
       "      <td>ежедневно,</td>\n",
       "      <td>10:00–22:00</td>\n",
       "      <td>None</td>\n",
       "      <td>None</td>\n",
       "      <td>None</td>\n",
       "      <td>None</td>\n",
       "      <td>None</td>\n",
       "      <td>None</td>\n",
       "      <td>None</td>\n",
       "      <td>None</td>\n",
       "      <td>None</td>\n",
       "      <td>None</td>\n",
       "      <td>False</td>\n",
       "    </tr>\n",
       "    <tr>\n",
       "      <th>2</th>\n",
       "      <td>пн-чт</td>\n",
       "      <td>11:00–02:00</td>\n",
       "      <td>пт,сб</td>\n",
       "      <td>11:00–05:00;</td>\n",
       "      <td>вс</td>\n",
       "      <td>11:00–02:00</td>\n",
       "      <td>None</td>\n",
       "      <td>None</td>\n",
       "      <td>None</td>\n",
       "      <td>None</td>\n",
       "      <td>None</td>\n",
       "      <td>None</td>\n",
       "      <td>False</td>\n",
       "    </tr>\n",
       "    <tr>\n",
       "      <th>3</th>\n",
       "      <td>ежедневно,</td>\n",
       "      <td>09:00–22:00</td>\n",
       "      <td>None</td>\n",
       "      <td>None</td>\n",
       "      <td>None</td>\n",
       "      <td>None</td>\n",
       "      <td>None</td>\n",
       "      <td>None</td>\n",
       "      <td>None</td>\n",
       "      <td>None</td>\n",
       "      <td>None</td>\n",
       "      <td>None</td>\n",
       "      <td>False</td>\n",
       "    </tr>\n",
       "    <tr>\n",
       "      <th>4</th>\n",
       "      <td>ежедневно,</td>\n",
       "      <td>10:00–22:00</td>\n",
       "      <td>None</td>\n",
       "      <td>None</td>\n",
       "      <td>None</td>\n",
       "      <td>None</td>\n",
       "      <td>None</td>\n",
       "      <td>None</td>\n",
       "      <td>None</td>\n",
       "      <td>None</td>\n",
       "      <td>None</td>\n",
       "      <td>None</td>\n",
       "      <td>False</td>\n",
       "    </tr>\n",
       "  </tbody>\n",
       "</table>\n",
       "</div>"
      ],
      "text/plain": [
       "            0            1      2             3     4            5     6  \\\n",
       "0  ежедневно,  10:00–22:00   None          None  None         None  None   \n",
       "1  ежедневно,  10:00–22:00   None          None  None         None  None   \n",
       "2       пн-чт  11:00–02:00  пт,сб  11:00–05:00;    вс  11:00–02:00  None   \n",
       "3  ежедневно,  09:00–22:00   None          None  None         None  None   \n",
       "4  ежедневно,  10:00–22:00   None          None  None         None  None   \n",
       "\n",
       "      7     8     9    10    11  is_24_7  \n",
       "0  None  None  None  None  None    False  \n",
       "1  None  None  None  None  None    False  \n",
       "2  None  None  None  None  None    False  \n",
       "3  None  None  None  None  None    False  \n",
       "4  None  None  None  None  None    False  "
      ]
     },
     "execution_count": 34,
     "metadata": {},
     "output_type": "execute_result"
    }
   ],
   "source": [
    "hours_df.head()"
   ]
  },
  {
   "cell_type": "code",
   "execution_count": 35,
   "id": "2e032dce-b71a-4a82-bad9-cead5d62afd8",
   "metadata": {},
   "outputs": [],
   "source": [
    "#удаление лишних столбоц\n",
    "hours_df.drop(hours_df.iloc[:, 0:12], axis=1, inplace=True)"
   ]
  },
  {
   "cell_type": "code",
   "execution_count": 36,
   "id": "456f4d91-81c1-42e3-bd5c-1787355e7a39",
   "metadata": {},
   "outputs": [],
   "source": [
    "#добавление к анализируемому датафрейму параметр is_24_7\n",
    "rest_df= rest_df.join(hours_df, how='inner')"
   ]
  },
  {
   "cell_type": "code",
   "execution_count": 37,
   "id": "fed31026-feff-4d2f-9b76-b377c8acb2db",
   "metadata": {},
   "outputs": [
    {
     "name": "stdout",
     "output_type": "stream",
     "text": [
      "<class 'pandas.core.frame.DataFrame'>\n",
      "Int64Index: 8402 entries, 0 to 8405\n",
      "Data columns (total 14 columns):\n",
      " #   Column             Non-Null Count  Dtype  \n",
      "---  ------             --------------  -----  \n",
      " 0   id                 8402 non-null   object \n",
      " 1   name               8402 non-null   object \n",
      " 2   category           8402 non-null   object \n",
      " 3   address            8402 non-null   object \n",
      " 4   district           8402 non-null   object \n",
      " 5   hours              7867 non-null   object \n",
      " 6   rating             8402 non-null   float32\n",
      " 7   chain              8402 non-null   int8   \n",
      " 8   seats              4734 non-null   float32\n",
      " 9   price              3315 non-null   object \n",
      " 10  avg_bill           3816 non-null   object \n",
      " 11  middle_avg_bill    3149 non-null   float32\n",
      " 12  middle_coffee_cup  535 non-null    float32\n",
      " 13  is_24_7            8402 non-null   bool   \n",
      "dtypes: bool(1), float32(4), int8(1), object(8)\n",
      "memory usage: 996.5+ KB\n"
     ]
    }
   ],
   "source": [
    "rest_df.info()"
   ]
  },
  {
   "cell_type": "markdown",
   "id": "a12859aa-4987-458e-9560-cb23551ed82b",
   "metadata": {},
   "source": [
    "На этапе предобработки данных:\n",
    "\n",
    "- проведен детальный анализ пропусков, по результатам которого принято решение оставить исходный датафрейм без изменений;\n",
    "- осуществлена проверка на наличие дубликатов (явных не выявлено, неявные после нормализации стороковых данных удалены в количестве 4 шт.);\n",
    "- проведена оптимизация типов данных, а именно изменение разрядности числовых типов данных;\n",
    "- добавлен новый столец *is_24_7* булевого типа с информацией о графике работы заведения (True- ежедневно и круглосуточно, False- иной график).\n",
    "\n",
    "По результату для исследовательного анализа будет использован датафрейм *rest_df*, содержащий 14 столбцов и 8402 строк. "
   ]
  },
  {
   "cell_type": "markdown",
   "id": "d4062d4b-af5e-4818-9ea5-888229eaf0c8",
   "metadata": {},
   "source": [
    "## 3. Исследовательский анализ данных"
   ]
  },
  {
   "cell_type": "markdown",
   "id": "e0871add-7a1a-45a3-be05-357770456349",
   "metadata": {},
   "source": [
    "### Задача 1\n",
    "\n",
    "Исследование категорий заведений. Какие категории заведений представлены в данных? Какое количество объектов общественного питания по каждой категории?"
   ]
  },
  {
   "cell_type": "code",
   "execution_count": 38,
   "id": "cf5063a2-98ad-418c-9a69-9bc9ff35715d",
   "metadata": {},
   "outputs": [
    {
     "name": "stdout",
     "output_type": "stream",
     "text": [
      "Распределение данных по значениям столбца category (абсолютные значения):\n"
     ]
    },
    {
     "data": {
      "text/plain": [
       "кафе               2376\n",
       "ресторан           2042\n",
       "кофейня            1413\n",
       "бар,паб             764\n",
       "пиццерия            633\n",
       "быстрое питание     603\n",
       "столовая            315\n",
       "булочная            256\n",
       "Name: category, dtype: int64"
      ]
     },
     "execution_count": 38,
     "metadata": {},
     "output_type": "execute_result"
    }
   ],
   "source": [
    "# Проверка распределения данных по значениям столбца category\n",
    "print('Распределение данных по значениям столбца category (абсолютные значения):')\n",
    "rest_df['category'].value_counts()"
   ]
  },
  {
   "cell_type": "code",
   "execution_count": 39,
   "id": "ce217485",
   "metadata": {},
   "outputs": [
    {
     "name": "stdout",
     "output_type": "stream",
     "text": [
      "Распределение данных по значениям столбца category (относительные значения):\n"
     ]
    },
    {
     "data": {
      "text/plain": [
       "кафе               0.282790\n",
       "ресторан           0.243037\n",
       "кофейня            0.168174\n",
       "бар,паб            0.090931\n",
       "пиццерия           0.075339\n",
       "быстрое питание    0.071769\n",
       "столовая           0.037491\n",
       "булочная           0.030469\n",
       "Name: category, dtype: float64"
      ]
     },
     "execution_count": 39,
     "metadata": {},
     "output_type": "execute_result"
    }
   ],
   "source": [
    "print('Распределение данных по значениям столбца category (относительные значения):')\n",
    "rest_df['category'].value_counts(normalize=True)"
   ]
  },
  {
   "cell_type": "code",
   "execution_count": 40,
   "id": "3657c352-d782-4374-9270-b0f04ca4be46",
   "metadata": {},
   "outputs": [
    {
     "data": {
      "image/png": "[encoded data removed]",
      "text/plain": [
       "<Figure size 700x300 with 1 Axes>"
      ]
     },
     "metadata": {},
     "output_type": "display_data"
    }
   ],
   "source": [
    "#построение столбчатой диаграммы с помощью pandas через plot(kind='bar')\n",
    "rest_df['category'].value_counts().plot(\n",
    "                                    kind='bar',\n",
    "                                    figsize=(7,3),\n",
    "                                    color='darkseagreen',\n",
    "                                    rot=45\n",
    ")\n",
    "\n",
    "plt.title('Распределение заведений в зависимости от категории')\n",
    "plt.xlabel('Категория заведения')\n",
    "plt.ylabel('Количество заведений')\n",
    "plt.grid(axis='y')\n",
    "                                    \n",
    "plt.show()"
   ]
  },
  {
   "cell_type": "markdown",
   "id": "74feb963-e9ac-4ae7-9fe3-74a83c15b561",
   "metadata": {},
   "source": [
    "Для ответа на вопросы построена столбчатая диаграмма (т.к. анализ данных категориального типа), которая позволила выделить все категорий заведений общественного питания г.Москвы и увидеть их количество. Заведения между категориями распределены неравномерно. Наибольшее количество заведений относится к категориям *Кафе* и *Ресторан* (свыше `2000`). Наименее часто встречающие заведения- *Столовая* и *Булочная* (менее `500`)."
   ]
  },
  {
   "cell_type": "markdown",
   "id": "3445a8a1-2b60-4237-bc63-82929be58f8e",
   "metadata": {},
   "source": [
    "\n",
    "### Задача 2\n",
    "\n",
    "Исследования заведений по районам. Какие административные районы Москвы присутствуют в данных? Какое количество заведений по каждому административному району Москвы?   \n",
    "Как распределены категории заведений в Центральном административном округе Москвы?"
   ]
  },
  {
   "cell_type": "code",
   "execution_count": 41,
   "id": "60571d6a-f04d-4ac3-826a-f9eb09a3af93",
   "metadata": {},
   "outputs": [
    {
     "name": "stdout",
     "output_type": "stream",
     "text": [
      "Распределение данных по значениям столбца district:\n"
     ]
    },
    {
     "data": {
      "text/plain": [
       "Центральный административный округ         2242\n",
       "Северный административный округ             898\n",
       "Южный административный округ                892\n",
       "Северо-Восточный административный округ     890\n",
       "Западный административный округ             850\n",
       "Восточный административный округ            798\n",
       "Юго-Восточный административный округ        714\n",
       "Юго-Западный административный округ         709\n",
       "Северо-Западный административный округ      409\n",
       "Name: district, dtype: int64"
      ]
     },
     "execution_count": 41,
     "metadata": {},
     "output_type": "execute_result"
    }
   ],
   "source": [
    "print('Распределение данных по значениям столбца district:')\n",
    "rest_df['district'].value_counts()"
   ]
  },
  {
   "cell_type": "code",
   "execution_count": 42,
   "id": "136c1a18-5c9c-45f4-8075-c6a8a3210b81",
   "metadata": {},
   "outputs": [],
   "source": [
    "#Т.к. названия объемные, исключаем формулировку ' административный округ' методом replace()\n",
    "rest_df['district']= rest_df['district'].str.replace(' административный округ', '')"
   ]
  },
  {
   "cell_type": "code",
   "execution_count": 43,
   "id": "036af931-194b-4af6-81d1-4ea095837f53",
   "metadata": {},
   "outputs": [
    {
     "data": {
      "image/png": "[encoded data removed]",
      "text/plain": [
       "<Figure size 700x300 with 1 Axes>"
      ]
     },
     "metadata": {},
     "output_type": "display_data"
    }
   ],
   "source": [
    "#построение столбчатой диаграммы с помощью pandas через plot(kind='bar')\n",
    "rest_df['district'].value_counts().plot(\n",
    "                                kind='bar',\n",
    "                                figsize=(7,3),\n",
    "                                color='darkseagreen'\n",
    ")\n",
    "\n",
    "plt.title('Распределение заведений в зависимости от административного района')\n",
    "plt.xlabel('Административный район')\n",
    "plt.ylabel('Количество заведений')\n",
    "plt.grid(axis='y')\n",
    "\n",
    "plt.show()"
   ]
  },
  {
   "cell_type": "markdown",
   "id": "a05cd070-fa11-40b1-9496-b6bc230197ab",
   "metadata": {},
   "source": [
    "Для ответа на вопросы также построена столбчатая диаграмма.   \n",
    "Существенным лидером по количеству заведений является *Центральный район* (свыше `2000`), во всех остальных районах заведения представлены в количестве менее `1000`. Аутсайдером выступает *Северо-Запад* (`409` заведений).   \n",
    "\n",
    "Далее посмотрим на распределение категорий заведения внтури района-лидера."
   ]
  },
  {
   "cell_type": "code",
   "execution_count": 44,
   "id": "a35e6caa-636a-45ed-9c29-cdf308e0f9fa",
   "metadata": {},
   "outputs": [
    {
     "name": "stdout",
     "output_type": "stream",
     "text": [
      "Распределение данных по значениям столбца category для Центрального района:\n"
     ]
    },
    {
     "data": {
      "text/plain": [
       "ресторан           670\n",
       "кафе               464\n",
       "кофейня            428\n",
       "бар,паб            364\n",
       "пиццерия           113\n",
       "быстрое питание     87\n",
       "столовая            66\n",
       "булочная            50\n",
       "Name: category, dtype: int64"
      ]
     },
     "execution_count": 44,
     "metadata": {},
     "output_type": "execute_result"
    }
   ],
   "source": [
    "# Проверка распределения данных по значениям столбца category для Центрального района\n",
    "print('Распределение данных по значениям столбца category для Центрального района:')\n",
    "rest_df[rest_df['district']=='Центральный']['category'].value_counts()"
   ]
  },
  {
   "cell_type": "code",
   "execution_count": 45,
   "id": "aae91aa8-d0ac-4612-9a51-1d00d5745933",
   "metadata": {},
   "outputs": [
    {
     "data": {
      "image/png": "[encoded data removed]",
      "text/plain": [
       "<Figure size 700x300 with 1 Axes>"
      ]
     },
     "metadata": {},
     "output_type": "display_data"
    }
   ],
   "source": [
    "#построение столбчатой диаграммы с помощью pandas через plot(kind='bar')\n",
    "rest_df[rest_df['district']=='Центральный']['category'].value_counts().plot(\n",
    "                                                                kind='bar',\n",
    "                                                                figsize=(7,3),\n",
    "                                                                color='darkseagreen',\n",
    "                                                                rot= 45\n",
    ")  \n",
    "\n",
    "plt.title('Распределение заведений Ценртрального района в зависимости от категории заведения')\n",
    "plt.xlabel('Категория заведения')\n",
    "plt.ylabel('Количество заведений')\n",
    "plt.grid(axis='y')\n",
    "\n",
    "plt.show()"
   ]
  },
  {
   "cell_type": "markdown",
   "id": "ad62a296-1ec4-44b6-95a4-1cdccc32297e",
   "metadata": {},
   "source": [
    "В центральном районе в отличие от общих значений по г.Москва на первой позиции находится *Ресторан* (свыше `600` заведений), *Кафе*- лидер среди заведений по общим данным, занимает вторую позицию (чуть более `450` заведений). По остальным категориям картина аналогичная агрегированным по г.Москве данным."
   ]
  },
  {
   "cell_type": "markdown",
   "id": "e89b822e-a82a-4e9b-b104-86aca8a3cbbe",
   "metadata": {},
   "source": [
    "### Задача 3\n",
    "\n",
    "Исследование заведений по *Сетевому* признаку. Каких заведений больше — сетевых или несетевых? Какие категории заведений чаще являются сетевыми?"
   ]
  },
  {
   "cell_type": "code",
   "execution_count": 46,
   "id": "ed269fd8-ef62-4e4e-8ed4-650dc93bcf84",
   "metadata": {},
   "outputs": [
    {
     "name": "stdout",
     "output_type": "stream",
     "text": [
      "Распределение данных по значениям столбца chain:\n"
     ]
    },
    {
     "data": {
      "text/plain": [
       "0    0.618781\n",
       "1    0.381219\n",
       "Name: chain, dtype: float64"
      ]
     },
     "execution_count": 46,
     "metadata": {},
     "output_type": "execute_result"
    }
   ],
   "source": [
    "# распределение данных по значениям в столбце chain в отсносительном значении\n",
    "print('Распределение данных по значениям столбца chain:')\n",
    "rest_df['chain'].value_counts(normalize=True)"
   ]
  },
  {
   "cell_type": "code",
   "execution_count": 47,
   "id": "d0a3ae46-7041-4085-ad45-a95add3a93a3",
   "metadata": {},
   "outputs": [
    {
     "data": {
      "image/png": "[encoded data removed]",
      "text/plain": [
       "<Figure size 700x300 with 1 Axes>"
      ]
     },
     "metadata": {},
     "output_type": "display_data"
    }
   ],
   "source": [
    "# построение столбчатой диаграммы с помощью pandas через plot(kind='bar')\n",
    "rest_df['chain'].value_counts(normalize=True).plot(\n",
    "                                                kind='bar',\n",
    "                                                figsize=(7,3),\n",
    "                                                color='darkseagreen',\n",
    "                                                rot=0\n",
    ")\n",
    "\n",
    "plt.title('Распределение заведений на сетевые и несетевые')\n",
    "plt.xlabel('Тип заведения: 0- несетевое, 1- сетевое')\n",
    "plt.ylabel('Доля заведений')\n",
    "plt.grid(axis='y')\n",
    "\n",
    "plt.show()"
   ]
  },
  {
   "cell_type": "markdown",
   "id": "b0ba8372-ff8c-4ff7-8135-14c965a778c5",
   "metadata": {},
   "source": [
    "Для визуализации выбрана столбчатая диаграмма (т.к. анализируется категориальный признак).   \n",
    "Большая часть заведений (`62%`) относится к *несетевым*. Но не стоит исключать тот факт, что в данных могут быть ошибки ввиду отнесения к сетевым заведениям только крупных сетей.  \n",
    "\n",
    "Дополнительно отразим то же распределение на круговой диаграмме."
   ]
  },
  {
   "cell_type": "code",
   "execution_count": 48,
   "id": "64c917a6",
   "metadata": {},
   "outputs": [
    {
     "data": {
      "image/png": "[encoded data removed]",
      "text/plain": [
       "<Figure size 600x600 with 1 Axes>"
      ]
     },
     "metadata": {},
     "output_type": "display_data"
    }
   ],
   "source": [
    "rest_df['chain'].value_counts(normalize=True).plot(kind='pie',\n",
    "                                                  colors=['darkseagreen','moccasin'],\n",
    "                                                  figsize=(6,6),\n",
    "                                                  autopct='%1.2f%%'\n",
    "                                                  )\n",
    "\n",
    "plt.title('Распределение заведений на сетевые и несетевые')\n",
    "plt.legend(title='Признак сети', labels=['несетевое', 'сетевое'])\n",
    "plt.ylabel('')\n",
    "\n",
    "plt.show()"
   ]
  },
  {
   "cell_type": "markdown",
   "id": "a5d52055",
   "metadata": {},
   "source": [
    "Далее посмотрим на распределение категорий в разрезе сетевое/ несетевое заведение."
   ]
  },
  {
   "cell_type": "code",
   "execution_count": 49,
   "id": "90ed815c-bb19-41aa-8c10-93d00b441159",
   "metadata": {},
   "outputs": [
    {
     "name": "stdout",
     "output_type": "stream",
     "text": [
      "Распределение данных по значениям столбца chain:\n"
     ]
    },
    {
     "data": {
      "text/html": [
       "<div>\n",
       "<style scoped>\n",
       "    .dataframe tbody tr th:only-of-type {\n",
       "        vertical-align: middle;\n",
       "    }\n",
       "\n",
       "    .dataframe tbody tr th {\n",
       "        vertical-align: top;\n",
       "    }\n",
       "\n",
       "    .dataframe thead th {\n",
       "        text-align: right;\n",
       "    }\n",
       "</style>\n",
       "<table border=\"1\" class=\"dataframe\">\n",
       "  <thead>\n",
       "    <tr style=\"text-align: right;\">\n",
       "      <th>chain</th>\n",
       "      <th>0</th>\n",
       "      <th>1</th>\n",
       "    </tr>\n",
       "    <tr>\n",
       "      <th>category</th>\n",
       "      <th></th>\n",
       "      <th></th>\n",
       "    </tr>\n",
       "  </thead>\n",
       "  <tbody>\n",
       "    <tr>\n",
       "      <th>бар,паб</th>\n",
       "      <td>0.780105</td>\n",
       "      <td>0.219895</td>\n",
       "    </tr>\n",
       "    <tr>\n",
       "      <th>булочная</th>\n",
       "      <td>0.386719</td>\n",
       "      <td>0.613281</td>\n",
       "    </tr>\n",
       "    <tr>\n",
       "      <th>быстрое питание</th>\n",
       "      <td>0.615257</td>\n",
       "      <td>0.384743</td>\n",
       "    </tr>\n",
       "    <tr>\n",
       "      <th>кафе</th>\n",
       "      <td>0.672138</td>\n",
       "      <td>0.327862</td>\n",
       "    </tr>\n",
       "    <tr>\n",
       "      <th>кофейня</th>\n",
       "      <td>0.490446</td>\n",
       "      <td>0.509554</td>\n",
       "    </tr>\n",
       "    <tr>\n",
       "      <th>пиццерия</th>\n",
       "      <td>0.478673</td>\n",
       "      <td>0.521327</td>\n",
       "    </tr>\n",
       "    <tr>\n",
       "      <th>ресторан</th>\n",
       "      <td>0.642997</td>\n",
       "      <td>0.357003</td>\n",
       "    </tr>\n",
       "    <tr>\n",
       "      <th>столовая</th>\n",
       "      <td>0.720635</td>\n",
       "      <td>0.279365</td>\n",
       "    </tr>\n",
       "  </tbody>\n",
       "</table>\n",
       "</div>"
      ],
      "text/plain": [
       "chain                   0         1\n",
       "category                           \n",
       "бар,паб          0.780105  0.219895\n",
       "булочная         0.386719  0.613281\n",
       "быстрое питание  0.615257  0.384743\n",
       "кафе             0.672138  0.327862\n",
       "кофейня          0.490446  0.509554\n",
       "пиццерия         0.478673  0.521327\n",
       "ресторан         0.642997  0.357003\n",
       "столовая         0.720635  0.279365"
      ]
     },
     "execution_count": 49,
     "metadata": {},
     "output_type": "execute_result"
    }
   ],
   "source": [
    "# распределение данных по значениям столбца chain с группировкой по category в относительных значениях\n",
    "print('Распределение данных по значениям столбца chain:')\n",
    "rest_df.groupby('category')['chain'].value_counts(normalize=True).unstack(fill_value=True)"
   ]
  },
  {
   "cell_type": "code",
   "execution_count": 50,
   "id": "14ce6764-13ed-4d5b-ab60-a6ea696a0eee",
   "metadata": {},
   "outputs": [
    {
     "data": {
      "image/png": "[encoded data removed]",
      "text/plain": [
       "<Figure size 1000x300 with 1 Axes>"
      ]
     },
     "metadata": {},
     "output_type": "display_data"
    }
   ],
   "source": [
    "# построение столбчатой диаграммы с помощью pandas через plot(kind='bar')\n",
    "rest_df.groupby('category')['chain'].value_counts(normalize=True).unstack(fill_value=0).sort_values(by=0, ascending=False).plot(\n",
    "                                                                        kind='bar',\n",
    "                                                                        figsize=(10, 3),\n",
    "                                                                        color=['darkseagreen','moccasin'],\n",
    "                                                                        rot=45\n",
    "                                                                                    \n",
    "    \n",
    ")\n",
    "\n",
    "plt.title('Распределение сетевых заведений в зависимости от категории')\n",
    "plt.xlabel('Категория')\n",
    "plt.ylabel('Доля заведений')\n",
    "plt.grid()\n",
    "plt.legend(title='Признак сети', labels=['несетевое', 'сетевое'])\n",
    "\n",
    "plt.show()"
   ]
  },
  {
   "cell_type": "markdown",
   "id": "06242905-5477-4d72-99cb-87879c4b756e",
   "metadata": {},
   "source": [
    "Если смотреть на признак *Сети*,в разрезе *Категорий*, то *сетевыми* заведениями чаще всего являются *булочные*, а также *кофейни* и *пиццерии* (более половины из всех представленных в категории заведений)."
   ]
  },
  {
   "cell_type": "markdown",
   "id": "bdb4a8ec-68a6-4e3f-bcdc-80957077b723",
   "metadata": {},
   "source": [
    "### Задача 4\n",
    "\n",
    "Исследование количества посадочных мест в заведениях. Встречаются ли в данных аномальные значения или выбросы? Если да, то с чем они могут быть связаны? Определение для каждой категории заведений наиболее типичное для него количество посадочных мест. "
   ]
  },
  {
   "cell_type": "code",
   "execution_count": 51,
   "id": "01b2b7d2-40b6-4980-a778-087f64cf8a51",
   "metadata": {},
   "outputs": [
    {
     "name": "stdout",
     "output_type": "stream",
     "text": [
      "Статистические показатели столбца seats:\n"
     ]
    },
    {
     "data": {
      "text/plain": [
       "count    4734.000000\n",
       "mean      111.379807\n",
       "std       124.031227\n",
       "min         1.000000\n",
       "25%        40.000000\n",
       "50%        78.000000\n",
       "75%       141.000000\n",
       "max      1288.000000\n",
       "Name: seats, dtype: float64"
      ]
     },
     "execution_count": 51,
     "metadata": {},
     "output_type": "execute_result"
    }
   ],
   "source": [
    "#вывод статистических показателей столбца seats\n",
    "print('Статистические показатели столбца seats:')\n",
    "rest_df['seats'].describe()"
   ]
  },
  {
   "cell_type": "markdown",
   "id": "c286872c-a292-465d-a9f6-7dc617102f2d",
   "metadata": {},
   "source": [
    "Вероятнее всего, данные по количеству посадочных мест имеют асимметричное распределение. Об этом говорит существенная разница среднего и медианного значений. Стандартное отклонение также имеет высокое значение. Это указывает на то, что данные могут иметь широкий разброс. Разница между минимальным и максимальным значениями это подтверждает.\n",
    "\n",
    "Для дополнительной проверки далее построим гистограмму распределения значений и диаграмму размаха."
   ]
  },
  {
   "cell_type": "code",
   "execution_count": 52,
   "id": "ce42a0bf-a0db-404d-ac24-6cee58c69360",
   "metadata": {},
   "outputs": [
    {
     "data": {
      "image/png": "[encoded data removed]",
      "text/plain": [
       "<Figure size 700x300 with 1 Axes>"
      ]
     },
     "metadata": {},
     "output_type": "display_data"
    }
   ],
   "source": [
    "# построение гистограммы с помощью pandas через plot(kind='hist')\n",
    "rest_df['seats'].plot(\n",
    "                    kind='hist',\n",
    "                    figsize=(7,3),\n",
    "                    bins=25,\n",
    "                    edgecolor='black',\n",
    "                    color='darkseagreen',\n",
    "                    alpha=0.75)\n",
    "\n",
    "plt.title('Распределение количества посадочных мест в заведениях')\n",
    "plt.xlabel('Количество посадочных мест')\n",
    "plt.ylabel('Частота')\n",
    "plt.grid()\n",
    "\n",
    "plt.show()"
   ]
  },
  {
   "cell_type": "code",
   "execution_count": 53,
   "id": "1280379c-353a-40b6-bd6d-cd2a8c6ae8f4",
   "metadata": {},
   "outputs": [
    {
     "data": {
      "image/png": "[encoded data removed]",
      "text/plain": [
       "<Figure size 1200x300 with 1 Axes>"
      ]
     },
     "metadata": {},
     "output_type": "display_data"
    }
   ],
   "source": [
    "# построение диаграммы размаха с помощью pandas через plot(kind='box')\n",
    "rest_df['seats'].plot(\n",
    "                    kind='box',\n",
    "                    vert=False,\n",
    "                    figsize=(12,3),\n",
    "                    flierprops=dict(markerfacecolor='peachpuff')\n",
    ")\n",
    "\n",
    "plt.title('Распределение количества посадочных мест в заведениях')\n",
    "plt.xlabel('Количество посадочных мест')\n",
    "\n",
    "plt.show()"
   ]
  },
  {
   "cell_type": "markdown",
   "id": "9b5ad9a0-eb87-40a6-bfa7-ecfb0bc679d0",
   "metadata": {},
   "source": [
    "Гистограмма и диаграмма размаха подтвердили выводы сделанные выше.   \n",
    "Распределение смещено влево и большая часть значений находится в диапазоне `1-200`. Пик приходится на заведения, рассчитанные на количество `до 50` человек. Значения выше 300 относятся к выбросам. Учитывая количество, их удаление приведет к существенному сокращению датафрейма. Более того, т.к. анализируются заведения мегаполиса, количество посадочных мест в размере 300 выглядит вполне правдоподобным, например, это могут быть рестораны, целевое назначение которых- проведение крупных банкетных мероприятий, или фудкорты. А вот значения приближенные к 600 и выше выглядят как аномалии, но в датафрейме они имеют небольшой удельный вес.   \n",
    "\n",
    "Далее проведем подсчет типичного количества посадочных мест в разрезе категорий, используя медиану, т.к. среднее значение может быть сильно искаженнным ввиду наличия выбросов."
   ]
  },
  {
   "cell_type": "code",
   "execution_count": 54,
   "id": "3a3f4121-a638-436b-a627-3a603157ae21",
   "metadata": {},
   "outputs": [
    {
     "data": {
      "text/plain": [
       "category\n",
       "бар,паб            84.0\n",
       "булочная           60.0\n",
       "быстрое питание    75.0\n",
       "кафе               60.0\n",
       "кофейня            80.0\n",
       "пиццерия           56.0\n",
       "ресторан           90.0\n",
       "столовая           76.0\n",
       "Name: seats, dtype: float32"
      ]
     },
     "execution_count": 54,
     "metadata": {},
     "output_type": "execute_result"
    }
   ],
   "source": [
    "#подсчет медианы количества посадочных мест в разрезе категорий\n",
    "rest_df.groupby('category')['seats'].median()"
   ]
  },
  {
   "cell_type": "code",
   "execution_count": 55,
   "id": "9f86ab29-0e73-48ff-b156-8b555be22f7b",
   "metadata": {},
   "outputs": [
    {
     "data": {
      "image/png": "[encoded data removed]",
      "text/plain": [
       "<Figure size 700x300 with 1 Axes>"
      ]
     },
     "metadata": {},
     "output_type": "display_data"
    }
   ],
   "source": [
    "#построение столбчатой диаграммы с помощью pandas через plot(kind='bar')\n",
    "rest_df.groupby('category')['seats'].median().sort_values(ascending=False).plot(\n",
    "                                            kind='bar',\n",
    "                                            figsize=(7,3),\n",
    "                                            color='darkseagreen',\n",
    "                                            rot=45\n",
    ")\n",
    "\n",
    "plt.title('Типичное количество посадочных мест по категориям')\n",
    "plt.xlabel('Категория заведения')\n",
    "plt.ylabel('Медиана количества посадочных мест')\n",
    "plt.grid(axis='y')\n",
    "\n",
    "plt.show()"
   ]
  },
  {
   "cell_type": "markdown",
   "id": "78db2fbb-f3ad-4e32-a4f3-d4666601b641",
   "metadata": {},
   "source": [
    "Категория заведения не оказывает существенного влияния на количество посадочных мест. Размах значение небольшой: все они находятся в диапазоне `от 56 до 90`. Максимальное характерно для категории *ресторан*."
   ]
  },
  {
   "cell_type": "markdown",
   "id": "7a3b9a38-d463-40cd-993a-3232f70db00c",
   "metadata": {},
   "source": [
    "### Задача 5\n",
    "\n",
    "Исследование рейтинга заведений. Сильно ли различаются усреднённые рейтинги для разных типов общепита?"
   ]
  },
  {
   "cell_type": "code",
   "execution_count": 56,
   "id": "90fc609c-fd30-4129-b0a6-23a8d0b3deb6",
   "metadata": {},
   "outputs": [
    {
     "data": {
      "text/plain": [
       "category\n",
       "бар,паб            4.387696\n",
       "булочная           4.268359\n",
       "быстрое питание    4.050249\n",
       "кафе               4.124285\n",
       "кофейня            4.277282\n",
       "пиццерия           4.301264\n",
       "ресторан           4.290401\n",
       "столовая           4.211429\n",
       "Name: rating, dtype: float32"
      ]
     },
     "execution_count": 56,
     "metadata": {},
     "output_type": "execute_result"
    }
   ],
   "source": [
    "#подсчет среднего рейтинга в разрезе категорий\n",
    "rest_df.groupby('category')['rating'].mean()"
   ]
  },
  {
   "cell_type": "code",
   "execution_count": 57,
   "id": "9dce1e0a-a4d4-4038-8eb1-ddbf3579b78c",
   "metadata": {},
   "outputs": [
    {
     "data": {
      "image/png": "[encoded data removed]",
      "text/plain": [
       "<Figure size 700x300 with 1 Axes>"
      ]
     },
     "metadata": {},
     "output_type": "display_data"
    }
   ],
   "source": [
    "rest_df.groupby('category')['rating'].mean().sort_values(ascending=False).plot(\n",
    "    kind='bar',\n",
    "    figsize=(7,3),\n",
    "    color='darkseagreen',\n",
    "    rot=45\n",
    ")\n",
    "\n",
    "plt.title('Распределение рейтингов заведений')\n",
    "plt.xlabel('Категория заведения')\n",
    "plt.ylabel('Средний рейтинг')\n",
    "plt.grid()\n",
    "\n",
    "plt.show()"
   ]
  },
  {
   "cell_type": "markdown",
   "id": "107948c6-c4cd-410d-9ef8-6270d0052214",
   "metadata": {},
   "source": [
    "Для визуализации выбрана столбчатая диаграмма, т.к. анализируется рейтинг в разрезе категорий.  \n",
    "Категория заведения не оказывает существенного влияния на рейтинг. Разница минимальная: все значения в интервале `4.05-4.39`. Максимум принадлежит *барам* и *пабам*."
   ]
  },
  {
   "cell_type": "markdown",
   "id": "9567d161-b06d-4e17-a2d7-d105346c3fc5",
   "metadata": {},
   "source": [
    "### Задача 6  \n",
    "Исследование корреляция рейтинга заведений с другими параметрами. А именно: категория, положение (административный район Москвы), статус сетевого заведения, количество мест, ценовая категория и признак, является ли заведения круглосуточным. Визуализация самой сильной связи."
   ]
  },
  {
   "cell_type": "code",
   "execution_count": 58,
   "id": "16e6bfbb-bb9d-4fa1-b1ca-8ec8e4932927",
   "metadata": {},
   "outputs": [
    {
     "name": "stdout",
     "output_type": "stream",
     "text": [
      "interval columns not set, guessing: ['rating', 'chain', 'seats']\n"
     ]
    },
    {
     "data": {
      "text/html": [
       "<div>\n",
       "<style scoped>\n",
       "    .dataframe tbody tr th:only-of-type {\n",
       "        vertical-align: middle;\n",
       "    }\n",
       "\n",
       "    .dataframe tbody tr th {\n",
       "        vertical-align: top;\n",
       "    }\n",
       "\n",
       "    .dataframe thead th {\n",
       "        text-align: right;\n",
       "    }\n",
       "</style>\n",
       "<table border=\"1\" class=\"dataframe\">\n",
       "  <thead>\n",
       "    <tr style=\"text-align: right;\">\n",
       "      <th></th>\n",
       "      <th>rating</th>\n",
       "    </tr>\n",
       "  </thead>\n",
       "  <tbody>\n",
       "    <tr>\n",
       "      <th>price</th>\n",
       "      <td>0.262056</td>\n",
       "    </tr>\n",
       "    <tr>\n",
       "      <th>category</th>\n",
       "      <td>0.198739</td>\n",
       "    </tr>\n",
       "    <tr>\n",
       "      <th>district</th>\n",
       "      <td>0.189453</td>\n",
       "    </tr>\n",
       "    <tr>\n",
       "      <th>is_24_7</th>\n",
       "      <td>0.161010</td>\n",
       "    </tr>\n",
       "    <tr>\n",
       "      <th>chain</th>\n",
       "      <td>0.118857</td>\n",
       "    </tr>\n",
       "    <tr>\n",
       "      <th>seats</th>\n",
       "      <td>0.000000</td>\n",
       "    </tr>\n",
       "  </tbody>\n",
       "</table>\n",
       "</div>"
      ],
      "text/plain": [
       "            rating\n",
       "price     0.262056\n",
       "category  0.198739\n",
       "district  0.189453\n",
       "is_24_7   0.161010\n",
       "chain     0.118857\n",
       "seats     0.000000"
      ]
     },
     "execution_count": 58,
     "metadata": {},
     "output_type": "execute_result"
    }
   ],
   "source": [
    "#построение матрицы корреляции\n",
    "corr_matrix = rest_df[['rating', 'category', 'district', 'chain', 'seats', 'price', 'is_24_7']].phik_matrix()\n",
    "\n",
    "corr_matrix[corr_matrix.index != 'rating'][['rating']].sort_values(by='rating', ascending=False)"
   ]
  },
  {
   "cell_type": "code",
   "execution_count": 59,
   "id": "46eb994d-9ba3-41e0-9071-5823a1ad92d0",
   "metadata": {
    "scrolled": true
   },
   "outputs": [
    {
     "data": {
      "image/png": "[encoded data removed]",
      "text/plain": [
       "<Figure size 400x600 with 1 Axes>"
      ]
     },
     "metadata": {},
     "output_type": "display_data"
    }
   ],
   "source": [
    "#сохранение матрицы корреляции признака rating в отлельном датафрейме\n",
    "corr_heatmap= corr_matrix[corr_matrix.index != 'rating'][['rating']].sort_values(by='rating', ascending=False)\n",
    "\n",
    "#построение тепловой карты \n",
    "plt.figure(figsize=(4,6))\n",
    "\n",
    "sns.heatmap(data=corr_heatmap, \n",
    "            annot=True, \n",
    "            cmap='summer_r',\n",
    "            linewidths=0.3,\n",
    "            cbar=False)\n",
    "\n",
    "plt.title('Тепловая карта коэффициента phi_k \\n для данных rating')\n",
    "plt.show()"
   ]
  },
  {
   "cell_type": "markdown",
   "id": "d05df14a-d28b-49a3-bea6-a1c1a115a011",
   "metadata": {},
   "source": [
    "Для изучения взаимосвязи между *рейтингом* и др. параметрами (*категория, положение, статус сетевого заведения, количество мест, ценовая категория и признак, является ли заведения круглосуточным*) построена матрица корреляции и на ее основе тепловая карта. Т.к. в выбранном для анализа срезе данных есть как категориальные, так и числовые значения, использована библиотка *phik*.  \n",
    "\n",
    "Наибольшая корреляция рейтинга наблюдается с ценовой категорией (`0.26`), категорией (`0.2`) и положение (`0.19`). Для остальных признаков коэффициент корреляции снижается с 0.16 до 0.\n",
    "\n",
    "Т.к. самая сильная связь наблюдается между числовой переменной (*рейтинг*) и категориальным значением (*ценовая категория*) для более детального изучения построим гистограммы распределения для каждой категории цены."
   ]
  },
  {
   "cell_type": "code",
   "execution_count": 60,
   "id": "4a8eef70-50f1-4f75-a85e-333f98b970a8",
   "metadata": {},
   "outputs": [],
   "source": [
    "#т.к. в price есть пропуски, создаем датафрейм без них, чтобы исключить упоминание о None в легенде\n",
    "df_for_hist=rest_df.dropna(subset=['price'])"
   ]
  },
  {
   "cell_type": "code",
   "execution_count": 61,
   "id": "4348cc9f-5f37-4b80-9831-59e223e7a9b4",
   "metadata": {},
   "outputs": [
    {
     "data": {
      "image/png": "[encoded data removed]",
      "text/plain": [
       "<Figure size 1000x400 with 1 Axes>"
      ]
     },
     "metadata": {},
     "output_type": "display_data"
    }
   ],
   "source": [
    "#создание фигуры графика\n",
    "plt.figure(figsize=(10, 4))\n",
    "\n",
    "#построение гистограммы для каждого значения category\n",
    "for i in df_for_hist['price'].unique():\n",
    "    df_for_hist[df_for_hist['price']==i]['rating'].plot(kind='hist',\n",
    "                                                        bins=15,\n",
    "                                                        alpha=0.5,\n",
    "                                                        label= i,\n",
    "                                                        legend=True\n",
    "                                                       )\n",
    "plt.title('Сравнение распределения рейтинга в зависимости от признака \"price\"')\n",
    "plt.xlabel('Рейтинг')\n",
    "plt.ylabel('Количество заведений')\n",
    "plt.legend(title='Значение price')\n",
    "plt.show()            "
   ]
  },
  {
   "cell_type": "markdown",
   "id": "b875322d-8a4c-4f1d-94f1-3d93fd8faccc",
   "metadata": {},
   "source": [
    "Т.к. заведения между ценовыми категориями распределены неравномерно, дополнительно для наглядности построим график KDE. "
   ]
  },
  {
   "cell_type": "code",
   "execution_count": 62,
   "id": "726c574e-05a3-42ca-921f-18d7120f152e",
   "metadata": {},
   "outputs": [
    {
     "data": {
      "image/png": "[encoded data removed]",
      "text/plain": [
       "<Figure size 1000x400 with 1 Axes>"
      ]
     },
     "metadata": {},
     "output_type": "display_data"
    }
   ],
   "source": [
    "#создание фигуры графика\n",
    "plt.figure(figsize=(10, 4))\n",
    "\n",
    "#построение графика KDE для каждого значения category\n",
    "for i in df_for_hist['price'].unique():\n",
    "    df_for_hist[df_for_hist['price']==i]['rating'].plot(kind='kde',\n",
    "                                                        alpha=0.5,\n",
    "                                                        label= i,\n",
    "                                                        legend=True\n",
    "                                                       )\n",
    "plt.title('Сравнение распределения рейтинга в зависимости от признака \"price\"')\n",
    "plt.xlabel('Рейтинг')\n",
    "plt.ylabel('Плотность')\n",
    "plt.legend(title='Значение price')\n",
    "plt.show()                "
   ]
  },
  {
   "cell_type": "markdown",
   "id": "0c8578fd-0be7-46b8-84b3-df73ce826818",
   "metadata": {},
   "source": [
    "На графике видно, что распределение рейтинга находится примерно в одном диапазоне для разных ценовых категорий. Есть смещение влево для *низкой* категории и вправо для *высокой*, но они незначительны. Отличие в высоте графиков указывает на разброс значений.  \n",
    "Таким образом, проверка через визуализацию подтвердила слабую зависимость для самой 'сильной' связи согласно матрице корреляции."
   ]
  },
  {
   "cell_type": "markdown",
   "id": "8b65d3a9-d75c-4b9f-85e4-bf3d9f0e468f",
   "metadata": {},
   "source": [
    "### Задача 7\n",
    "\n",
    "Исследование топ-15 популярных сетей в Москве (популярность- количество заведений сети). Какой их средний рейтинг? К какой категории заведений они относятся? "
   ]
  },
  {
   "cell_type": "code",
   "execution_count": 63,
   "id": "713a737f-0a00-4b03-88b4-d45dcc44f3bf",
   "metadata": {},
   "outputs": [],
   "source": [
    "#создание датафрейма на основе сгруппированных по названию заведения данных, с выводом данных агрегированных по количеству и среднему рейтингу и добавлением категории\n",
    "name_group_df=rest_df[rest_df['chain']==1].groupby(['name', 'category']).agg({'id': 'count', 'rating': 'mean'}).reset_index().sort_values(by='id', ascending=False)"
   ]
  },
  {
   "cell_type": "code",
   "execution_count": 64,
   "id": "6dd5f54e-9563-4b61-b17e-f45b825df23b",
   "metadata": {},
   "outputs": [],
   "source": [
    "#топ-15 сетей по количеству заведений\n",
    "name_group_df= name_group_df.iloc[0:15]"
   ]
  },
  {
   "cell_type": "code",
   "execution_count": 65,
   "id": "28551a5e-5c44-4bf4-bd99-2d4cadf4425a",
   "metadata": {},
   "outputs": [
    {
     "data": {
      "image/png": "[encoded data removed]",
      "text/plain": [
       "<Figure size 700x500 with 1 Axes>"
      ]
     },
     "metadata": {},
     "output_type": "display_data"
    }
   ],
   "source": [
    "#изменение направления сортировки датафрейма для построения диаграммы\n",
    "name_group_df= name_group_df.iloc[0:15].iloc[::-1]\n",
    "\n",
    "#построение горизонтальной столбчатой диаграммы с топ-15 сетей\n",
    "name_group_df.plot(kind='barh',\n",
    "                   x='name',\n",
    "                   y='id',\n",
    "                   figsize=(7,5),\n",
    "                   legend=False,\n",
    "                   color='darkseagreen',\n",
    "                   )\n",
    "\n",
    "plt.title('Топ-15 популярных сетей в Москве')\n",
    "plt.xlabel('Количество заведений')\n",
    "plt.ylabel('Название сети')\n",
    "\n",
    "plt.show()"
   ]
  },
  {
   "cell_type": "code",
   "execution_count": 66,
   "id": "a1683a8f",
   "metadata": {},
   "outputs": [
    {
     "data": {
      "text/html": [
       "<div>\n",
       "<style scoped>\n",
       "    .dataframe tbody tr th:only-of-type {\n",
       "        vertical-align: middle;\n",
       "    }\n",
       "\n",
       "    .dataframe tbody tr th {\n",
       "        vertical-align: top;\n",
       "    }\n",
       "\n",
       "    .dataframe thead th {\n",
       "        text-align: right;\n",
       "    }\n",
       "</style>\n",
       "<table border=\"1\" class=\"dataframe\">\n",
       "  <thead>\n",
       "    <tr style=\"text-align: right;\">\n",
       "      <th></th>\n",
       "      <th></th>\n",
       "      <th>Количество заведений</th>\n",
       "      <th>Средний рейтинг</th>\n",
       "    </tr>\n",
       "    <tr>\n",
       "      <th>category</th>\n",
       "      <th>name</th>\n",
       "      <th></th>\n",
       "      <th></th>\n",
       "    </tr>\n",
       "  </thead>\n",
       "  <tbody>\n",
       "    <tr>\n",
       "      <th>булочная</th>\n",
       "      <th>буханка</th>\n",
       "      <td>25</td>\n",
       "      <td>4.42</td>\n",
       "    </tr>\n",
       "    <tr>\n",
       "      <th rowspan=\"3\" valign=\"top\">кафе</th>\n",
       "      <th>drive café</th>\n",
       "      <td>24</td>\n",
       "      <td>4.02</td>\n",
       "    </tr>\n",
       "    <tr>\n",
       "      <th>кулинарная лавка братьев караваевых</th>\n",
       "      <td>39</td>\n",
       "      <td>4.39</td>\n",
       "    </tr>\n",
       "    <tr>\n",
       "      <th>чайхана</th>\n",
       "      <td>26</td>\n",
       "      <td>3.95</td>\n",
       "    </tr>\n",
       "    <tr>\n",
       "      <th rowspan=\"6\" valign=\"top\">кофейня</th>\n",
       "      <th>cofefest</th>\n",
       "      <td>31</td>\n",
       "      <td>3.98</td>\n",
       "    </tr>\n",
       "    <tr>\n",
       "      <th>cofix</th>\n",
       "      <td>65</td>\n",
       "      <td>4.08</td>\n",
       "    </tr>\n",
       "    <tr>\n",
       "      <th>one price coffee</th>\n",
       "      <td>71</td>\n",
       "      <td>4.06</td>\n",
       "    </tr>\n",
       "    <tr>\n",
       "      <th>кофемания</th>\n",
       "      <td>22</td>\n",
       "      <td>4.46</td>\n",
       "    </tr>\n",
       "    <tr>\n",
       "      <th>кофепорт</th>\n",
       "      <td>42</td>\n",
       "      <td>4.15</td>\n",
       "    </tr>\n",
       "    <tr>\n",
       "      <th>шоколадница</th>\n",
       "      <td>119</td>\n",
       "      <td>4.18</td>\n",
       "    </tr>\n",
       "    <tr>\n",
       "      <th rowspan=\"2\" valign=\"top\">пиццерия</th>\n",
       "      <th>додо пицца</th>\n",
       "      <td>74</td>\n",
       "      <td>4.29</td>\n",
       "    </tr>\n",
       "    <tr>\n",
       "      <th>домино'с пицца</th>\n",
       "      <td>76</td>\n",
       "      <td>4.17</td>\n",
       "    </tr>\n",
       "    <tr>\n",
       "      <th rowspan=\"3\" valign=\"top\">ресторан</th>\n",
       "      <th>prime</th>\n",
       "      <td>49</td>\n",
       "      <td>4.11</td>\n",
       "    </tr>\n",
       "    <tr>\n",
       "      <th>теремок</th>\n",
       "      <td>36</td>\n",
       "      <td>4.11</td>\n",
       "    </tr>\n",
       "    <tr>\n",
       "      <th>яндекс лавка</th>\n",
       "      <td>69</td>\n",
       "      <td>3.87</td>\n",
       "    </tr>\n",
       "  </tbody>\n",
       "</table>\n",
       "</div>"
      ],
      "text/plain": [
       "                                              Количество заведений  \\\n",
       "category name                                                        \n",
       "булочная буханка                                                25   \n",
       "кафе     drive café                                             24   \n",
       "         кулинарная лавка братьев караваевых                    39   \n",
       "         чайхана                                                26   \n",
       "кофейня  cofefest                                               31   \n",
       "         cofix                                                  65   \n",
       "         one price coffee                                       71   \n",
       "         кофемания                                              22   \n",
       "         кофепорт                                               42   \n",
       "         шоколадница                                           119   \n",
       "пиццерия додо пицца                                             74   \n",
       "         домино'с пицца                                         76   \n",
       "ресторан prime                                                  49   \n",
       "         теремок                                                36   \n",
       "         яндекс лавка                                           69   \n",
       "\n",
       "                                              Средний рейтинг  \n",
       "category name                                                  \n",
       "булочная буханка                                         4.42  \n",
       "кафе     drive café                                      4.02  \n",
       "         кулинарная лавка братьев караваевых             4.39  \n",
       "         чайхана                                         3.95  \n",
       "кофейня  cofefest                                        3.98  \n",
       "         cofix                                           4.08  \n",
       "         one price coffee                                4.06  \n",
       "         кофемания                                       4.46  \n",
       "         кофепорт                                        4.15  \n",
       "         шоколадница                                     4.18  \n",
       "пиццерия додо пицца                                      4.29  \n",
       "         домино'с пицца                                  4.17  \n",
       "ресторан prime                                           4.11  \n",
       "         теремок                                         4.11  \n",
       "         яндекс лавка                                    3.87  "
      ]
     },
     "execution_count": 66,
     "metadata": {},
     "output_type": "execute_result"
    }
   ],
   "source": [
    "#создание сводной таблицы на основе датафрейма name_group_df для разделения сетей на категории\n",
    "name_pivot_table= name_group_df.pivot_table(index=['category', 'name'],\n",
    "                    values=['id', 'rating']\n",
    "                    )\n",
    "#переименование столбцов\n",
    "name_pivot_table= name_pivot_table.rename(columns={'id':'Количество заведений', 'rating':'Средний рейтинг'})\n",
    "#сортировка данных в сводной таблице\n",
    "name_pivot_table=name_pivot_table.sort_values(by=['category', 'name', 'Количество заведений'], ascending=[True, True, False])\n",
    "#округлений значений в столбце Средниц Рейтинг\n",
    "name_pivot_table['Средний рейтинг']=name_pivot_table['Средний рейтинг'].round(2)\n",
    "\n",
    "name_pivot_table"
   ]
  },
  {
   "cell_type": "markdown",
   "id": "e7617fc3-2825-4961-acc7-646a492d874e",
   "metadata": {},
   "source": [
    "В Топ-15 заведений по популярности наблюдается существенное отличие в количестве заведений сети на 1ой и 15ой позициях. Если первая строка представлена заведениями в количестве `120`, то все остальные заведения ниже имеют меньше 100 точек, заведение с 15ой позиции- `22`.    \n",
    "Для анализа в разрезе категорий использована сводная таблица. По ее данным видно, что топ-15 заведений относятся к *булочной, кафе, кофейням, пиццериям, ресторанам*. Максимум приходится на *кофейню*- 6 сетей.   \n",
    "Рейтинг сетей варьируется от `3.87` до `4.39`. Стоит отметить, что `4.39` это максимальный рейтинг по выборке, а значит одно из самых популярных (по количеству) заведений, имеет самую высокую оценку от посетителей."
   ]
  },
  {
   "cell_type": "markdown",
   "id": "dc92a402-3e1d-4ed2-b7c0-7f0c6318a26d",
   "metadata": {},
   "source": [
    "### Задача 8\n",
    "\n",
    "Исследование среднего чека заведения (столбец `middle_avg_bill`) в зависимости от района Москвы. Как удалённость от центра влияет на цены в заведениях?"
   ]
  },
  {
   "cell_type": "code",
   "execution_count": 67,
   "id": "260bd60f-3513-411f-ae99-f05849c8efc5",
   "metadata": {},
   "outputs": [
    {
     "data": {
      "text/plain": [
       "count     3149.000000\n",
       "mean       958.053650\n",
       "std       1009.732849\n",
       "min          0.000000\n",
       "25%        375.000000\n",
       "50%        750.000000\n",
       "75%       1250.000000\n",
       "max      35000.000000\n",
       "Name: middle_avg_bill, dtype: float64"
      ]
     },
     "execution_count": 67,
     "metadata": {},
     "output_type": "execute_result"
    }
   ],
   "source": [
    "#статистические характеристики параметра middle_avg_bill\n",
    "rest_df['middle_avg_bill'].describe()"
   ]
  },
  {
   "cell_type": "code",
   "execution_count": 68,
   "id": "50a25601-08f6-497d-875b-c702fbf663f9",
   "metadata": {},
   "outputs": [
    {
     "data": {
      "text/html": [
       "<div>\n",
       "<style scoped>\n",
       "    .dataframe tbody tr th:only-of-type {\n",
       "        vertical-align: middle;\n",
       "    }\n",
       "\n",
       "    .dataframe tbody tr th {\n",
       "        vertical-align: top;\n",
       "    }\n",
       "\n",
       "    .dataframe thead tr th {\n",
       "        text-align: left;\n",
       "    }\n",
       "\n",
       "    .dataframe thead tr:last-of-type th {\n",
       "        text-align: right;\n",
       "    }\n",
       "</style>\n",
       "<table border=\"1\" class=\"dataframe\">\n",
       "  <thead>\n",
       "    <tr>\n",
       "      <th></th>\n",
       "      <th>min</th>\n",
       "      <th>max</th>\n",
       "      <th>median</th>\n",
       "      <th>mean</th>\n",
       "    </tr>\n",
       "    <tr>\n",
       "      <th></th>\n",
       "      <th>middle_avg_bill</th>\n",
       "      <th>middle_avg_bill</th>\n",
       "      <th>middle_avg_bill</th>\n",
       "      <th>middle_avg_bill</th>\n",
       "    </tr>\n",
       "    <tr>\n",
       "      <th>district</th>\n",
       "      <th></th>\n",
       "      <th></th>\n",
       "      <th></th>\n",
       "      <th></th>\n",
       "    </tr>\n",
       "  </thead>\n",
       "  <tbody>\n",
       "    <tr>\n",
       "      <th>Восточный</th>\n",
       "      <td>50.0</td>\n",
       "      <td>10000.0</td>\n",
       "      <td>575.0</td>\n",
       "      <td>820.626953</td>\n",
       "    </tr>\n",
       "    <tr>\n",
       "      <th>Западный</th>\n",
       "      <td>50.0</td>\n",
       "      <td>5250.0</td>\n",
       "      <td>1000.0</td>\n",
       "      <td>1053.225464</td>\n",
       "    </tr>\n",
       "    <tr>\n",
       "      <th>Северный</th>\n",
       "      <td>130.0</td>\n",
       "      <td>11000.0</td>\n",
       "      <td>650.0</td>\n",
       "      <td>927.959656</td>\n",
       "    </tr>\n",
       "    <tr>\n",
       "      <th>Северо-Восточный</th>\n",
       "      <td>50.0</td>\n",
       "      <td>4500.0</td>\n",
       "      <td>500.0</td>\n",
       "      <td>716.611267</td>\n",
       "    </tr>\n",
       "    <tr>\n",
       "      <th>Северо-Западный</th>\n",
       "      <td>120.0</td>\n",
       "      <td>2900.0</td>\n",
       "      <td>700.0</td>\n",
       "      <td>822.222900</td>\n",
       "    </tr>\n",
       "    <tr>\n",
       "      <th>Центральный</th>\n",
       "      <td>0.0</td>\n",
       "      <td>7250.0</td>\n",
       "      <td>1000.0</td>\n",
       "      <td>1191.057495</td>\n",
       "    </tr>\n",
       "    <tr>\n",
       "      <th>Юго-Восточный</th>\n",
       "      <td>30.0</td>\n",
       "      <td>3750.0</td>\n",
       "      <td>450.0</td>\n",
       "      <td>654.097961</td>\n",
       "    </tr>\n",
       "    <tr>\n",
       "      <th>Юго-Западный</th>\n",
       "      <td>100.0</td>\n",
       "      <td>2750.0</td>\n",
       "      <td>600.0</td>\n",
       "      <td>792.561707</td>\n",
       "    </tr>\n",
       "    <tr>\n",
       "      <th>Южный</th>\n",
       "      <td>100.0</td>\n",
       "      <td>35000.0</td>\n",
       "      <td>500.0</td>\n",
       "      <td>834.398071</td>\n",
       "    </tr>\n",
       "  </tbody>\n",
       "</table>\n",
       "</div>"
      ],
      "text/plain": [
       "                             min             max          median  \\\n",
       "                 middle_avg_bill middle_avg_bill middle_avg_bill   \n",
       "district                                                           \n",
       "Восточный                   50.0         10000.0           575.0   \n",
       "Западный                    50.0          5250.0          1000.0   \n",
       "Северный                   130.0         11000.0           650.0   \n",
       "Северо-Восточный            50.0          4500.0           500.0   \n",
       "Северо-Западный            120.0          2900.0           700.0   \n",
       "Центральный                  0.0          7250.0          1000.0   \n",
       "Юго-Восточный               30.0          3750.0           450.0   \n",
       "Юго-Западный               100.0          2750.0           600.0   \n",
       "Южный                      100.0         35000.0           500.0   \n",
       "\n",
       "                            mean  \n",
       "                 middle_avg_bill  \n",
       "district                          \n",
       "Восточный             820.626953  \n",
       "Западный             1053.225464  \n",
       "Северный              927.959656  \n",
       "Северо-Восточный      716.611267  \n",
       "Северо-Западный       822.222900  \n",
       "Центральный          1191.057495  \n",
       "Юго-Восточный         654.097961  \n",
       "Юго-Западный          792.561707  \n",
       "Южный                 834.398071  "
      ]
     },
     "execution_count": 68,
     "metadata": {},
     "output_type": "execute_result"
    }
   ],
   "source": [
    "#создание сводной таблицы для анализа статистических характеристик цен в разрезе округов\n",
    "rest_df.pivot_table(index='district',\n",
    "                    values='middle_avg_bill',\n",
    "                    aggfunc=['min', 'max', 'median', 'mean']\n",
    "                   )\n",
    "                   "
   ]
  },
  {
   "cell_type": "markdown",
   "id": "b3d3d5d5-745a-424d-aef0-0561643f3057",
   "metadata": {},
   "source": [
    "Т.к. между средним и медианой есть большой разрыв, значит распределение ассиметричное и есть выборы (что подтверждает максимальное значение). Поэтому далее для построения столбчатой диаграммы испрльзована медиана. "
   ]
  },
  {
   "cell_type": "code",
   "execution_count": 69,
   "id": "3d3364ae-83b3-4088-9a15-705ecfdd7f4f",
   "metadata": {},
   "outputs": [
    {
     "data": {
      "image/png": "[encoded data removed]",
      "text/plain": [
       "<Figure size 700x300 with 1 Axes>"
      ]
     },
     "metadata": {},
     "output_type": "display_data"
    }
   ],
   "source": [
    "#подсчет медианы для каждого округа с сортировкой\n",
    "category_group_df= rest_df.groupby('district', as_index=False)['middle_avg_bill'].median().sort_values(by='middle_avg_bill', ascending=False)\n",
    "\n",
    "#построение столбчатой диаграммы со значением среднего чека для каждого округа\n",
    "category_group_df.plot(kind='bar',\n",
    "                       x='district',\n",
    "                       figsize=(7, 3),\n",
    "                       color='darkseagreen'\n",
    "                      )\n",
    "\n",
    "#создание переменной со значением среднего чека для всего датафрейма\n",
    "median_middle_avg_bill = rest_df['middle_avg_bill'].median()\n",
    "\n",
    "# добавление на график линии со значением mean_middle_avg_bill\n",
    "plt.axhline(median_middle_avg_bill, color='red',\n",
    "                linestyle='--', linewidth=1,\n",
    "                label=f'Значение по всем данным: {median_middle_avg_bill:.2f}'\n",
    "           )\n",
    "\n",
    "\n",
    "plt.title('Распределение среднего чека в зависимости от района')\n",
    "plt.xlabel('Административный район')\n",
    "plt.ylabel('Средний чек')\n",
    "plt.grid(axis='y')\n",
    "plt.legend()\n",
    "\n",
    "plt.show()"
   ]
  },
  {
   "cell_type": "markdown",
   "id": "ac990384-1d4c-4e4a-a026-72c9b32bbd01",
   "metadata": {},
   "source": [
    "Значение среднего чека в разрезе округов варьируется.   \n",
    "В топ-3 входит *Центр, Запад и Северо-Запад* (`1000 руб., 1000 руб., 700 руб.` соответственно), минимальный чек характерен для юго-восточной части города (`450 руб.`). Если посмотреть на средний чек вцелом (`750`), то только значение первых двух позиции превышает его.   \n",
    "Таким образом, заведения с высоким чеком сосредоточены в *центральной* и *западных* частях города. С удаленностью от центра чек снижается (особенно по направлению *юга* и *востока*, с *северным* направлением разрыв незначительно меньше)."
   ]
  },
  {
   "cell_type": "markdown",
   "id": "e2c7eddf-62de-4edc-9cba-ffd1b0c1be74",
   "metadata": {},
   "source": [
    "###   Промежуточный вывод   "
   ]
  },
  {
   "cell_type": "markdown",
   "id": "4a4e0392-fb06-4830-be0c-5eddb9fa19c5",
   "metadata": {},
   "source": [
    "Исследовательский анализ данных показал:\n",
    "- наличие разных категорий заведений общественного питания, которые имеют существенную разницу в численность. Самые распространенные *кафе* и *ресторан*;\n",
    "- неравномерное распределение заведений по округам с явным лидерством *центрального* района, в котором представлены все возможные категории заведений (в соотношении между категориями явных отличий от данных по всему городу не выявлено);\n",
    "- преобладание *несетевых* заведений (62%). Заведения сетевого характерны для непопулярных (по количеству) категорий;\n",
    "- размах значений в количестве посадочных мест в заведениях, при этом в среднем на одно заведение приходится от 55 до 90 мест (без явной зависимости от категориии заведения);\n",
    "- отсутствие сильной связи между рейтингом и категорией заведения, а также др. параметрами;\n",
    "- наличие только одной сети с заведениями в количестве более 100 и преобладание среди сетей заведений категории *кофейня*;\n",
    "- связь среднего чека с расположением заведения (снижение чека по мере удаленности от центра и западной части города).  "
   ]
  },
  {
   "cell_type": "markdown",
   "id": "4770c8bc-c3db-4b1f-a00e-555adff655e5",
   "metadata": {},
   "source": [
    "## 4. Итоговый вывод и рекомендации\n",
    "\n",
    "1. Общий обзор проделанной работы.\n",
    "\n",
    "В ходе исследования проанализированы данные 8402 заведений г.Москвы. Данные включали информацию о категории заведения, местоположении, рейтинге, графике работы, ценах. Наибольшее внимание в процессе исследования уделялось определению характеристик для заведения, которое станет наиболее подходящим вариантом для инвестирования.\n",
    "\n",
    "2. Ответы на исследовательские вопросы, или главные выводы.\n",
    "   \n",
    "На основе итогов исследовательского анализа данных рынок заведений общественного питания в г.Москва выглядит следующим образом:\n",
    "- имеется разнообразие в категориях заведений;\n",
    "- большая часть заведений сосредоточена в Центральном районе;\n",
    "- свыше половины заведений представлены одной точкой и не входят в сеть;\n",
    "- в основном заведения расчитаны на одномоментное наличие посетителей в количестве 100 человек.\n",
    "\n",
    "Если рассматривать данные, с точки зрения наличие зависимостей между различными характеристиками рынка, то:\n",
    "- явных факторов, влияющих на рейтинг заведения не выявлено;\n",
    "- наиболее прибыльные, с точки зрения, среднего чека заведения расположены в центральном и западных районах города;\n",
    "- популярность сети не зависит напрямую от категории заведений, но все же наблюдается преобладание среди *кофейн*.\n",
    "\n",
    "3. Рекомендации на основе анализа данных.\n",
    "\n",
    "В качестве рекомендаций обратить внимание на несетевое заведение, т.к. сеть потребует сразу значительного вложения.  \n",
    "В части района наиболее привлекательным выглядит вариант с Западом (средний чек высокий, при этом стоимость помещения должна быть ниже чем в Центральном районе). Дополнительно можно провести анализ районов на предмет оценки стоимости помещений (потенциальные издержки) и количества населения (потенциальный поток клиентов).  \n",
    "Также с учетом насыщенности рынка можно рассмотреть вариант с нишевым заведением (категорией, которая не представлена большим количеством заведений в городе, например, булочная). Но предварительно нужно детально изучить данные по этой категории."
   ]
  }
 ],
 "metadata": {
  "ExecuteTimeLog": [
   {
    "duration": 63,
    "start_time": "2025-06-01T07:57:07.488Z"
   },
   {
    "duration": 3711,
    "start_time": "2025-06-01T07:57:26.792Z"
   },
   {
    "duration": 1609,
    "start_time": "2025-06-01T07:57:30.505Z"
   },
   {
    "duration": 250,
    "start_time": "2025-06-01T07:57:34.774Z"
   },
   {
    "duration": 28,
    "start_time": "2025-06-01T07:57:35.438Z"
   },
   {
    "duration": 18,
    "start_time": "2025-06-01T07:57:36.718Z"
   },
   {
    "duration": 19,
    "start_time": "2025-06-01T07:57:37.995Z"
   },
   {
    "duration": 37,
    "start_time": "2025-06-01T07:57:38.170Z"
   },
   {
    "duration": 11,
    "start_time": "2025-06-01T07:57:39.587Z"
   },
   {
    "duration": 5,
    "start_time": "2025-06-01T07:57:39.749Z"
   },
   {
    "duration": 5,
    "start_time": "2025-06-01T07:57:39.924Z"
   },
   {
    "duration": 14,
    "start_time": "2025-06-01T07:57:40.593Z"
   },
   {
    "duration": 10,
    "start_time": "2025-06-01T07:57:40.826Z"
   },
   {
    "duration": 28,
    "start_time": "2025-06-01T07:57:41.058Z"
   },
   {
    "duration": 16,
    "start_time": "2025-06-01T07:57:41.791Z"
   },
   {
    "duration": 16,
    "start_time": "2025-06-01T07:57:42.193Z"
   },
   {
    "duration": 10,
    "start_time": "2025-06-01T07:57:42.586Z"
   },
   {
    "duration": 6,
    "start_time": "2025-06-01T07:57:42.812Z"
   },
   {
    "duration": 10,
    "start_time": "2025-06-01T07:57:44.285Z"
   },
   {
    "duration": 4,
    "start_time": "2025-06-01T07:57:44.452Z"
   },
   {
    "duration": 5,
    "start_time": "2025-06-01T07:57:45.228Z"
   },
   {
    "duration": 5,
    "start_time": "2025-06-01T07:57:45.644Z"
   },
   {
    "duration": 7,
    "start_time": "2025-06-01T07:57:46.330Z"
   },
   {
    "duration": 24,
    "start_time": "2025-06-01T07:57:46.694Z"
   },
   {
    "duration": 86,
    "start_time": "2025-06-01T07:57:47.060Z"
   },
   {
    "duration": 34,
    "start_time": "2025-06-01T07:57:47.484Z"
   },
   {
    "duration": 20,
    "start_time": "2025-06-01T07:57:48.026Z"
   },
   {
    "duration": 16,
    "start_time": "2025-06-01T07:57:49.685Z"
   },
   {
    "duration": 26,
    "start_time": "2025-06-01T07:57:49.704Z"
   },
   {
    "duration": 7,
    "start_time": "2025-06-01T07:57:49.804Z"
   },
   {
    "duration": 7,
    "start_time": "2025-06-01T07:57:50.312Z"
   },
   {
    "duration": 15,
    "start_time": "2025-06-01T07:57:50.719Z"
   },
   {
    "duration": 7,
    "start_time": "2025-06-01T07:57:51.224Z"
   },
   {
    "duration": 91,
    "start_time": "2025-06-01T07:57:53.573Z"
   },
   {
    "duration": 27,
    "start_time": "2025-06-01T07:57:53.871Z"
   },
   {
    "duration": 5,
    "start_time": "2025-06-01T07:57:54.116Z"
   },
   {
    "duration": 7,
    "start_time": "2025-06-01T07:57:54.616Z"
   },
   {
    "duration": 20,
    "start_time": "2025-06-01T07:57:55.015Z"
   },
   {
    "duration": 13,
    "start_time": "2025-06-01T07:57:57.993Z"
   },
   {
    "duration": 6,
    "start_time": "2025-06-01T07:57:58.160Z"
   },
   {
    "duration": 92,
    "start_time": "2025-06-01T08:03:37.464Z"
   },
   {
    "duration": 238,
    "start_time": "2025-06-01T08:04:01.976Z"
   },
   {
    "duration": 127,
    "start_time": "2025-06-01T08:05:15.513Z"
   },
   {
    "duration": 131,
    "start_time": "2025-06-01T08:05:57.403Z"
   },
   {
    "duration": 123,
    "start_time": "2025-06-01T08:06:00.001Z"
   },
   {
    "duration": 148,
    "start_time": "2025-06-01T08:06:15.483Z"
   },
   {
    "duration": 135,
    "start_time": "2025-06-01T08:06:33.674Z"
   },
   {
    "duration": 15,
    "start_time": "2025-06-01T08:06:58.340Z"
   },
   {
    "duration": 140,
    "start_time": "2025-06-01T08:07:15.134Z"
   },
   {
    "duration": 165,
    "start_time": "2025-06-01T08:09:29.695Z"
   },
   {
    "duration": 196,
    "start_time": "2025-06-01T08:09:45.863Z"
   },
   {
    "duration": 14,
    "start_time": "2025-06-01T08:10:37.069Z"
   },
   {
    "duration": 172,
    "start_time": "2025-06-01T08:11:05.743Z"
   },
   {
    "duration": 174,
    "start_time": "2025-06-01T08:12:52.036Z"
   },
   {
    "duration": 141,
    "start_time": "2025-06-01T08:13:08.211Z"
   },
   {
    "duration": 154,
    "start_time": "2025-06-01T08:13:16.052Z"
   },
   {
    "duration": 158,
    "start_time": "2025-06-01T08:13:48.847Z"
   },
   {
    "duration": 149,
    "start_time": "2025-06-01T08:15:06.909Z"
   },
   {
    "duration": 166,
    "start_time": "2025-06-01T08:16:09.234Z"
   },
   {
    "duration": 222,
    "start_time": "2025-06-01T08:21:38.236Z"
   },
   {
    "duration": 12,
    "start_time": "2025-06-01T08:22:09.455Z"
   },
   {
    "duration": 30,
    "start_time": "2025-06-01T08:22:53.168Z"
   },
   {
    "duration": 14,
    "start_time": "2025-06-01T08:23:41.635Z"
   },
   {
    "duration": 12,
    "start_time": "2025-06-01T08:23:51.173Z"
   },
   {
    "duration": 12,
    "start_time": "2025-06-01T08:24:01.044Z"
   },
   {
    "duration": 15,
    "start_time": "2025-06-01T08:24:37.070Z"
   },
   {
    "duration": 13,
    "start_time": "2025-06-01T08:25:00.719Z"
   },
   {
    "duration": 9,
    "start_time": "2025-06-01T08:25:09.513Z"
   },
   {
    "duration": 13,
    "start_time": "2025-06-01T08:26:17.496Z"
   },
   {
    "duration": 17,
    "start_time": "2025-06-01T08:27:22.917Z"
   },
   {
    "duration": 23,
    "start_time": "2025-06-01T08:28:34.683Z"
   },
   {
    "duration": 18,
    "start_time": "2025-06-01T08:28:44.067Z"
   },
   {
    "duration": 29,
    "start_time": "2025-06-01T08:30:28.571Z"
   },
   {
    "duration": 6,
    "start_time": "2025-06-01T08:30:35.330Z"
   },
   {
    "duration": 11,
    "start_time": "2025-06-01T08:30:42.553Z"
   },
   {
    "duration": 13,
    "start_time": "2025-06-01T08:32:53.043Z"
   },
   {
    "duration": 14,
    "start_time": "2025-06-01T08:33:34.366Z"
   },
   {
    "duration": 231,
    "start_time": "2025-06-01T08:33:47.002Z"
   },
   {
    "duration": 11,
    "start_time": "2025-06-01T08:34:47.908Z"
   },
   {
    "duration": 11,
    "start_time": "2025-06-01T08:34:52.354Z"
   },
   {
    "duration": 321,
    "start_time": "2025-06-01T08:34:54.394Z"
   },
   {
    "duration": 11,
    "start_time": "2025-06-01T08:34:58.549Z"
   },
   {
    "duration": 13,
    "start_time": "2025-06-01T08:35:10.690Z"
   },
   {
    "duration": 238,
    "start_time": "2025-06-01T08:35:19.777Z"
   },
   {
    "duration": 238,
    "start_time": "2025-06-01T08:35:58.369Z"
   },
   {
    "duration": 11,
    "start_time": "2025-06-01T08:40:00.119Z"
   },
   {
    "duration": 161,
    "start_time": "2025-06-01T08:40:17.097Z"
   },
   {
    "duration": 175,
    "start_time": "2025-06-01T08:42:04.744Z"
   },
   {
    "duration": 166,
    "start_time": "2025-06-01T08:43:27.963Z"
   },
   {
    "duration": 175,
    "start_time": "2025-06-01T08:43:44.936Z"
   },
   {
    "duration": 17,
    "start_time": "2025-06-01T08:56:41.069Z"
   },
   {
    "duration": 10,
    "start_time": "2025-06-01T08:56:42.808Z"
   },
   {
    "duration": 218,
    "start_time": "2025-06-01T08:57:41.635Z"
   },
   {
    "duration": 36,
    "start_time": "2025-06-01T08:58:41.768Z"
   },
   {
    "duration": 26,
    "start_time": "2025-06-01T09:06:05.701Z"
   },
   {
    "duration": 27,
    "start_time": "2025-06-01T09:06:58.609Z"
   },
   {
    "duration": 26,
    "start_time": "2025-06-01T09:07:11.731Z"
   },
   {
    "duration": 25,
    "start_time": "2025-06-01T09:09:39.807Z"
   },
   {
    "duration": 20,
    "start_time": "2025-06-01T09:09:54.692Z"
   },
   {
    "duration": 14,
    "start_time": "2025-06-01T09:09:55.339Z"
   },
   {
    "duration": 223,
    "start_time": "2025-06-01T09:09:56.809Z"
   },
   {
    "duration": 27,
    "start_time": "2025-06-01T09:09:58.210Z"
   },
   {
    "duration": 26,
    "start_time": "2025-06-01T09:10:51.407Z"
   },
   {
    "duration": 18,
    "start_time": "2025-06-01T09:13:44.919Z"
   },
   {
    "duration": 41,
    "start_time": "2025-06-01T10:00:59.568Z"
   },
   {
    "duration": 26,
    "start_time": "2025-06-01T10:01:44.701Z"
   },
   {
    "duration": 24,
    "start_time": "2025-06-01T10:02:30.280Z"
   },
   {
    "duration": 14,
    "start_time": "2025-06-01T10:02:38.700Z"
   },
   {
    "duration": 11,
    "start_time": "2025-06-01T10:02:41.753Z"
   },
   {
    "duration": 227,
    "start_time": "2025-06-01T10:03:45.198Z"
   },
   {
    "duration": 19,
    "start_time": "2025-06-01T10:04:10.455Z"
   },
   {
    "duration": 26,
    "start_time": "2025-06-01T10:04:52.165Z"
   },
   {
    "duration": 29,
    "start_time": "2025-06-01T10:05:17.881Z"
   },
   {
    "duration": 13,
    "start_time": "2025-06-01T10:06:00.144Z"
   },
   {
    "duration": 10,
    "start_time": "2025-06-01T10:06:00.900Z"
   },
   {
    "duration": 25,
    "start_time": "2025-06-01T10:08:20.703Z"
   },
   {
    "duration": 27,
    "start_time": "2025-06-01T10:08:34.294Z"
   },
   {
    "duration": 2,
    "start_time": "2025-06-01T10:09:17.950Z"
   },
   {
    "duration": 219,
    "start_time": "2025-06-01T10:09:19.132Z"
   },
   {
    "duration": 35,
    "start_time": "2025-06-01T10:09:20.768Z"
   },
   {
    "duration": 23,
    "start_time": "2025-06-01T10:09:39.499Z"
   },
   {
    "duration": 33,
    "start_time": "2025-06-01T10:09:52.070Z"
   },
   {
    "duration": 335,
    "start_time": "2025-06-01T10:13:49.466Z"
   },
   {
    "duration": 213,
    "start_time": "2025-06-01T10:13:54.626Z"
   },
   {
    "duration": 13,
    "start_time": "2025-06-01T10:14:40.606Z"
   },
   {
    "duration": 7,
    "start_time": "2025-06-01T10:14:41.075Z"
   },
   {
    "duration": 208,
    "start_time": "2025-06-01T10:14:41.631Z"
   },
   {
    "duration": 22,
    "start_time": "2025-06-01T10:14:42.729Z"
   },
   {
    "duration": 2805,
    "start_time": "2025-06-01T10:17:33.338Z"
   },
   {
    "duration": 1210,
    "start_time": "2025-06-01T10:17:36.145Z"
   },
   {
    "duration": 247,
    "start_time": "2025-06-01T10:17:37.357Z"
   },
   {
    "duration": 27,
    "start_time": "2025-06-01T10:17:37.606Z"
   },
   {
    "duration": 79,
    "start_time": "2025-06-01T10:17:37.635Z"
   },
   {
    "duration": 26,
    "start_time": "2025-06-01T10:17:37.716Z"
   },
   {
    "duration": 31,
    "start_time": "2025-06-01T10:17:37.744Z"
   },
   {
    "duration": 15,
    "start_time": "2025-06-01T10:17:37.779Z"
   },
   {
    "duration": 19,
    "start_time": "2025-06-01T10:17:37.796Z"
   },
   {
    "duration": 18,
    "start_time": "2025-06-01T10:17:37.816Z"
   },
   {
    "duration": 45,
    "start_time": "2025-06-01T10:17:37.836Z"
   },
   {
    "duration": 21,
    "start_time": "2025-06-01T10:17:37.883Z"
   },
   {
    "duration": 45,
    "start_time": "2025-06-01T10:17:37.906Z"
   },
   {
    "duration": 7,
    "start_time": "2025-06-01T10:17:37.954Z"
   },
   {
    "duration": 8,
    "start_time": "2025-06-01T10:17:37.962Z"
   },
   {
    "duration": 26,
    "start_time": "2025-06-01T10:17:37.971Z"
   },
   {
    "duration": 21,
    "start_time": "2025-06-01T10:17:38.001Z"
   },
   {
    "duration": 9,
    "start_time": "2025-06-01T10:17:38.023Z"
   },
   {
    "duration": 3,
    "start_time": "2025-06-01T10:17:38.033Z"
   },
   {
    "duration": 13,
    "start_time": "2025-06-01T10:17:38.037Z"
   },
   {
    "duration": 59,
    "start_time": "2025-06-01T10:17:38.051Z"
   },
   {
    "duration": 47,
    "start_time": "2025-06-01T10:17:38.112Z"
   },
   {
    "duration": 32,
    "start_time": "2025-06-01T10:17:38.161Z"
   },
   {
    "duration": 62,
    "start_time": "2025-06-01T10:17:38.196Z"
   },
   {
    "duration": 39,
    "start_time": "2025-06-01T10:17:38.260Z"
   },
   {
    "duration": 19,
    "start_time": "2025-06-01T10:17:38.301Z"
   },
   {
    "duration": 77,
    "start_time": "2025-06-01T10:17:38.322Z"
   },
   {
    "duration": 32,
    "start_time": "2025-06-01T10:17:38.401Z"
   },
   {
    "duration": 18,
    "start_time": "2025-06-01T10:17:38.435Z"
   },
   {
    "duration": 7,
    "start_time": "2025-06-01T10:17:38.455Z"
   },
   {
    "duration": 141,
    "start_time": "2025-06-01T10:17:38.464Z"
   },
   {
    "duration": 8,
    "start_time": "2025-06-01T10:17:38.607Z"
   },
   {
    "duration": 88,
    "start_time": "2025-06-01T10:17:38.617Z"
   },
   {
    "duration": 12,
    "start_time": "2025-06-01T10:17:38.708Z"
   },
   {
    "duration": 8,
    "start_time": "2025-06-01T10:17:38.722Z"
   },
   {
    "duration": 5,
    "start_time": "2025-06-01T10:17:38.732Z"
   },
   {
    "duration": 14,
    "start_time": "2025-06-01T10:17:38.738Z"
   },
   {
    "duration": 30,
    "start_time": "2025-06-01T10:17:38.753Z"
   },
   {
    "duration": 21,
    "start_time": "2025-06-01T10:17:38.785Z"
   },
   {
    "duration": 176,
    "start_time": "2025-06-01T10:17:38.807Z"
   },
   {
    "duration": 16,
    "start_time": "2025-06-01T10:17:38.988Z"
   },
   {
    "duration": 10,
    "start_time": "2025-06-01T10:17:39.006Z"
   },
   {
    "duration": 192,
    "start_time": "2025-06-01T10:17:39.018Z"
   },
   {
    "duration": 11,
    "start_time": "2025-06-01T10:17:39.211Z"
   },
   {
    "duration": 211,
    "start_time": "2025-06-01T10:17:39.224Z"
   },
   {
    "duration": 6,
    "start_time": "2025-06-01T10:17:39.437Z"
   },
   {
    "duration": 162,
    "start_time": "2025-06-01T10:17:39.445Z"
   },
   {
    "duration": 161,
    "start_time": "2025-06-01T10:17:39.609Z"
   },
   {
    "duration": 29,
    "start_time": "2025-06-01T10:17:39.771Z"
   },
   {
    "duration": 230,
    "start_time": "2025-06-01T10:17:39.802Z"
   },
   {
    "duration": 9,
    "start_time": "2025-06-01T10:17:40.034Z"
   },
   {
    "duration": 287,
    "start_time": "2025-06-01T10:17:40.044Z"
   },
   {
    "duration": 135,
    "start_time": "2025-06-01T10:17:40.333Z"
   },
   {
    "duration": 16,
    "start_time": "2025-06-01T10:17:40.469Z"
   },
   {
    "duration": 267,
    "start_time": "2025-06-01T10:17:40.489Z"
   },
   {
    "duration": 7,
    "start_time": "2025-06-01T10:17:40.757Z"
   },
   {
    "duration": 172,
    "start_time": "2025-06-01T10:17:40.766Z"
   },
   {
    "duration": 251,
    "start_time": "2025-06-01T10:17:40.940Z"
   },
   {
    "duration": 239,
    "start_time": "2025-06-01T10:17:41.194Z"
   },
   {
    "duration": 8,
    "start_time": "2025-06-01T10:17:41.435Z"
   },
   {
    "duration": 383,
    "start_time": "2025-06-01T10:17:41.445Z"
   },
   {
    "duration": 363,
    "start_time": "2025-06-01T10:17:41.830Z"
   },
   {
    "duration": 13,
    "start_time": "2025-06-01T10:17:42.195Z"
   },
   {
    "duration": 19,
    "start_time": "2025-06-01T10:17:42.210Z"
   },
   {
    "duration": 221,
    "start_time": "2025-06-01T10:17:42.231Z"
   },
   {
    "duration": 42,
    "start_time": "2025-06-01T10:17:42.454Z"
   },
   {
    "duration": 68,
    "start_time": "2025-06-01T10:17:42.498Z"
   },
   {
    "duration": 58,
    "start_time": "2025-06-01T10:17:42.568Z"
   },
   {
    "duration": 302,
    "start_time": "2025-06-01T10:17:42.627Z"
   },
   {
    "duration": 18,
    "start_time": "2025-06-01T10:17:51.534Z"
   },
   {
    "duration": 58,
    "start_time": "2025-06-01T10:17:57.103Z"
   },
   {
    "duration": 30,
    "start_time": "2025-06-01T10:17:57.255Z"
   },
   {
    "duration": 13,
    "start_time": "2025-06-01T10:17:58.747Z"
   },
   {
    "duration": 9,
    "start_time": "2025-06-01T10:17:59.107Z"
   },
   {
    "duration": 126,
    "start_time": "2025-06-01T10:17:59.588Z"
   },
   {
    "duration": 6,
    "start_time": "2025-06-01T10:17:59.740Z"
   },
   {
    "duration": 8,
    "start_time": "2025-06-01T10:17:59.932Z"
   },
   {
    "duration": 20,
    "start_time": "2025-06-01T10:18:00.086Z"
   },
   {
    "duration": 8,
    "start_time": "2025-06-01T10:18:00.269Z"
   },
   {
    "duration": 74,
    "start_time": "2025-06-01T10:18:00.598Z"
   },
   {
    "duration": 15,
    "start_time": "2025-06-01T10:18:00.742Z"
   },
   {
    "duration": 6,
    "start_time": "2025-06-01T10:18:00.930Z"
   },
   {
    "duration": 126,
    "start_time": "2025-06-01T10:18:01.095Z"
   },
   {
    "duration": 20,
    "start_time": "2025-06-01T10:18:01.264Z"
   },
   {
    "duration": 19,
    "start_time": "2025-06-01T10:18:02.280Z"
   },
   {
    "duration": 8,
    "start_time": "2025-06-01T10:18:02.451Z"
   },
   {
    "duration": 162,
    "start_time": "2025-06-01T10:18:02.801Z"
   },
   {
    "duration": 8,
    "start_time": "2025-06-01T10:18:03.727Z"
   },
   {
    "duration": 15,
    "start_time": "2025-06-01T10:18:03.888Z"
   },
   {
    "duration": 177,
    "start_time": "2025-06-01T10:18:04.057Z"
   },
   {
    "duration": 9,
    "start_time": "2025-06-01T10:18:04.437Z"
   },
   {
    "duration": 193,
    "start_time": "2025-06-01T10:18:04.609Z"
   },
   {
    "duration": 7,
    "start_time": "2025-06-01T10:18:05.350Z"
   },
   {
    "duration": 129,
    "start_time": "2025-06-01T10:18:05.513Z"
   },
   {
    "duration": 165,
    "start_time": "2025-06-01T10:18:05.880Z"
   },
   {
    "duration": 16,
    "start_time": "2025-06-01T10:18:06.655Z"
   },
   {
    "duration": 217,
    "start_time": "2025-06-01T10:18:06.822Z"
   },
   {
    "duration": 10,
    "start_time": "2025-06-01T10:18:07.799Z"
   },
   {
    "duration": 192,
    "start_time": "2025-06-01T10:18:08.146Z"
   },
   {
    "duration": 146,
    "start_time": "2025-06-01T10:18:08.343Z"
   },
   {
    "duration": 14,
    "start_time": "2025-06-01T10:18:08.978Z"
   },
   {
    "duration": 173,
    "start_time": "2025-06-01T10:18:09.150Z"
   },
   {
    "duration": 8,
    "start_time": "2025-06-01T10:18:10.237Z"
   },
   {
    "duration": 170,
    "start_time": "2025-06-01T10:18:10.431Z"
   },
   {
    "duration": 235,
    "start_time": "2025-06-01T10:18:11.799Z"
   },
   {
    "duration": 281,
    "start_time": "2025-06-01T10:18:12.038Z"
   },
   {
    "duration": 11,
    "start_time": "2025-06-01T10:18:12.779Z"
   },
   {
    "duration": 427,
    "start_time": "2025-06-01T10:18:13.002Z"
   },
   {
    "duration": 296,
    "start_time": "2025-06-01T10:18:13.472Z"
   },
   {
    "duration": 14,
    "start_time": "2025-06-01T10:18:16.122Z"
   },
   {
    "duration": 2,
    "start_time": "2025-06-01T10:18:16.261Z"
   },
   {
    "duration": 252,
    "start_time": "2025-06-01T10:18:16.438Z"
   },
   {
    "duration": 36,
    "start_time": "2025-06-01T10:18:16.693Z"
   },
   {
    "duration": 8,
    "start_time": "2025-06-01T10:18:20.142Z"
   },
   {
    "duration": 46,
    "start_time": "2025-06-01T10:18:23.578Z"
   },
   {
    "duration": 350,
    "start_time": "2025-06-01T10:18:24.637Z"
   }
  ],
  "kernelspec": {
   "display_name": "practicum",
   "language": "python",
   "name": "python3"
  },
  "language_info": {
   "codemirror_mode": {
    "name": "ipython",
    "version": 3
   },
   "file_extension": ".py",
   "mimetype": "text/x-python",
   "name": "python",
   "nbconvert_exporter": "python",
   "pygments_lexer": "ipython3",
   "version": "3.9.22"
  },
  "toc": {
   "base_numbering": 1,
   "nav_menu": {},
   "number_sections": true,
   "sideBar": true,
   "skip_h1_title": true,
   "title_cell": "Table of Contents",
   "title_sidebar": "Contents",
   "toc_cell": false,
   "toc_position": {},
   "toc_section_display": true,
   "toc_window_display": false
  }
 },
 "nbformat": 4,
 "nbformat_minor": 5
}
